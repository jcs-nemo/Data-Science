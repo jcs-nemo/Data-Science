{
    "cells": [
        {
            "cell_type": "markdown",
            "metadata": {
                "button": false,
                "deletable": true,
                "new_sheet": false,
                "run_control": {
                    "read_only": false
                }
            },
            "source": "# Using FourSquare API with Python"
        },
        {
            "cell_type": "markdown",
            "metadata": {
                "button": false,
                "deletable": true,
                "new_sheet": false,
                "run_control": {
                    "read_only": false
                }
            },
            "source": "   "
        },
        {
            "cell_type": "markdown",
            "metadata": {
                "button": false,
                "deletable": true,
                "new_sheet": false,
                "run_control": {
                    "read_only": false
                }
            },
            "source": "## Introduction\n\nIn this lab, you will learn in details how to make calls to the Foursquare API for different purposes. You will learn how to construct a URL to send a request to the API to search for a specific type of venues, to explore a particular venue, to explore a Foursquare user, to explore a geographical location, and to get trending venues around a location. Also, you will learn how to use the visualization library, Folium, to visualize the results."
        },
        {
            "cell_type": "markdown",
            "metadata": {
                "button": false,
                "deletable": true,
                "new_sheet": false,
                "run_control": {
                    "read_only": false
                }
            },
            "source": "## Table of Contents\n\n1. <a href=\"#item1\">Foursquare API Search Function</a>\n2. <a href=\"#item2\">Explore a Given Venue</a>  \n3. <a href=\"#item3\">Explore a User</a>  \n4. <a href=\"#item4\">Foursquare API Explore Function</a>  \n5. <a href=\"#item5\">Get Trending Venues</a>  "
        },
        {
            "cell_type": "markdown",
            "metadata": {
                "button": false,
                "deletable": true,
                "new_sheet": false,
                "run_control": {
                    "read_only": false
                }
            },
            "source": "### Import necessary Libraries"
        },
        {
            "cell_type": "code",
            "execution_count": 1,
            "metadata": {
                "button": false,
                "collapsed": false,
                "deletable": true,
                "jupyter": {
                    "outputs_hidden": false
                },
                "new_sheet": false,
                "run_control": {
                    "read_only": false
                }
            },
            "outputs": [
                {
                    "name": "stdout",
                    "output_type": "stream",
                    "text": "Collecting package metadata (current_repodata.json): done\nSolving environment: done\n\n## Package Plan ##\n\n  environment location: /home/jupyterlab/conda/envs/python\n\n  added / updated specs:\n    - geopy\n\n\nThe following packages will be downloaded:\n\n    package                    |            build\n    ---------------------------|-----------------\n    geographiclib-1.50         |             py_0          34 KB  conda-forge\n    geopy-1.21.0               |             py_0          58 KB  conda-forge\n    openssl-1.1.1g             |       h516909a_0         2.1 MB  conda-forge\n    ------------------------------------------------------------\n                                           Total:         2.2 MB\n\nThe following NEW packages will be INSTALLED:\n\n  geographiclib      conda-forge/noarch::geographiclib-1.50-py_0\n  geopy              conda-forge/noarch::geopy-1.21.0-py_0\n\nThe following packages will be UPDATED:\n\n  openssl                                 1.1.1f-h516909a_0 --> 1.1.1g-h516909a_0\n\n\n\nDownloading and Extracting Packages\nopenssl-1.1.1g       | 2.1 MB    | ##################################### | 100% \ngeopy-1.21.0         | 58 KB     | ##################################### | 100% \ngeographiclib-1.50   | 34 KB     | ##################################### | 100% \nPreparing transaction: done\nVerifying transaction: done\nExecuting transaction: done\nCollecting package metadata (current_repodata.json): done\nSolving environment: failed with initial frozen solve. Retrying with flexible solve.\nCollecting package metadata (repodata.json): done\nSolving environment: done\n\n## Package Plan ##\n\n  environment location: /home/jupyterlab/conda/envs/python\n\n  added / updated specs:\n    - folium=0.5.0\n\n\nThe following packages will be downloaded:\n\n    package                    |            build\n    ---------------------------|-----------------\n    altair-4.1.0               |             py_1         614 KB  conda-forge\n    branca-0.4.0               |             py_0          26 KB  conda-forge\n    brotlipy-0.7.0             |py36h8c4c3a4_1000         346 KB  conda-forge\n    chardet-3.0.4              |py36h9f0ad1d_1006         188 KB  conda-forge\n    cryptography-2.8           |   py36h45558ae_2         628 KB  conda-forge\n    folium-0.5.0               |             py_0          45 KB  conda-forge\n    pandas-1.0.3               |   py36h830a2c2_1        11.1 MB  conda-forge\n    pysocks-1.7.1              |   py36h9f0ad1d_1          27 KB  conda-forge\n    toolz-0.10.0               |             py_0          46 KB  conda-forge\n    urllib3-1.25.9             |             py_0          92 KB  conda-forge\n    vincent-0.4.4              |             py_1          28 KB  conda-forge\n    ------------------------------------------------------------\n                                           Total:        13.1 MB\n\nThe following NEW packages will be INSTALLED:\n\n  altair             conda-forge/noarch::altair-4.1.0-py_1\n  attrs              conda-forge/noarch::attrs-19.3.0-py_0\n  branca             conda-forge/noarch::branca-0.4.0-py_0\n  brotlipy           conda-forge/linux-64::brotlipy-0.7.0-py36h8c4c3a4_1000\n  chardet            conda-forge/linux-64::chardet-3.0.4-py36h9f0ad1d_1006\n  cryptography       conda-forge/linux-64::cryptography-2.8-py36h45558ae_2\n  entrypoints        conda-forge/linux-64::entrypoints-0.3-py36h9f0ad1d_1001\n  folium             conda-forge/noarch::folium-0.5.0-py_0\n  idna               conda-forge/noarch::idna-2.9-py_1\n  importlib-metadata conda-forge/linux-64::importlib-metadata-1.6.0-py36h9f0ad1d_0\n  importlib_metadata conda-forge/noarch::importlib_metadata-1.6.0-0\n  jinja2             conda-forge/noarch::jinja2-2.11.2-pyh9f0ad1d_0\n  jsonschema         conda-forge/linux-64::jsonschema-3.2.0-py36h9f0ad1d_1\n  markupsafe         conda-forge/linux-64::markupsafe-1.1.1-py36h8c4c3a4_1\n  pandas             conda-forge/linux-64::pandas-1.0.3-py36h830a2c2_1\n  pyopenssl          conda-forge/noarch::pyopenssl-19.1.0-py_1\n  pyrsistent         conda-forge/linux-64::pyrsistent-0.16.0-py36h8c4c3a4_0\n  pysocks            conda-forge/linux-64::pysocks-1.7.1-py36h9f0ad1d_1\n  pytz               conda-forge/noarch::pytz-2019.3-py_0\n  requests           conda-forge/noarch::requests-2.23.0-pyh8c360ce_2\n  toolz              conda-forge/noarch::toolz-0.10.0-py_0\n  urllib3            conda-forge/noarch::urllib3-1.25.9-py_0\n  vincent            conda-forge/noarch::vincent-0.4.4-py_1\n  zipp               conda-forge/noarch::zipp-3.1.0-py_0\n\n\n\nDownloading and Extracting Packages\npysocks-1.7.1        | 27 KB     | ##################################### | 100% \ncryptography-2.8     | 628 KB    | ##################################### | 100% \ntoolz-0.10.0         | 46 KB     | ##################################### | 100% \nchardet-3.0.4        | 188 KB    | ##################################### | 100% \nfolium-0.5.0         | 45 KB     | ##################################### | 100% \nurllib3-1.25.9       | 92 KB     | ##################################### | 100% \nbrotlipy-0.7.0       | 346 KB    | ##################################### | 100% \npandas-1.0.3         | 11.1 MB   | ##################################### | 100% \naltair-4.1.0         | 614 KB    | ##################################### | 100% \nbranca-0.4.0         | 26 KB     | ##################################### | 100% \nvincent-0.4.4        | 28 KB     | ##################################### | 100% \nPreparing transaction: done\nVerifying transaction: done\nExecuting transaction: done\nFolium installed\nLibraries imported.\n"
                }
            ],
            "source": "import requests # library to handle requests\nimport pandas as pd # library for data analsysis\nimport numpy as np # library to handle data in a vectorized manner\nimport random # library for random number generation\n\n!conda install -c conda-forge geopy --yes \nfrom geopy.geocoders import Nominatim # module to convert an address into latitude and longitude values\n\n# libraries for displaying images\nfrom IPython.display import Image \nfrom IPython.core.display import HTML \n    \n# tranforming json file into a pandas dataframe library\nfrom pandas.io.json import json_normalize\n\n!conda install -c conda-forge folium=0.5.0 --yes\nimport folium # plotting library\n\nprint('Folium installed')\nprint('Libraries imported.')"
        },
        {
            "cell_type": "markdown",
            "metadata": {
                "button": false,
                "deletable": true,
                "new_sheet": false,
                "run_control": {
                    "read_only": false
                }
            },
            "source": "### Define Foursquare Credentials and Version"
        },
        {
            "cell_type": "markdown",
            "metadata": {
                "button": false,
                "deletable": true,
                "new_sheet": false,
                "run_control": {
                    "read_only": false
                }
            },
            "source": "##### Make sure that you have created a Foursquare developer account and have your credentials handy"
        },
        {
            "cell_type": "code",
            "execution_count": 2,
            "metadata": {
                "button": false,
                "collapsed": false,
                "deletable": true,
                "jupyter": {
                    "outputs_hidden": false
                },
                "new_sheet": false,
                "run_control": {
                    "read_only": false
                }
            },
            "outputs": [
                {
                    "name": "stdout",
                    "output_type": "stream",
                    "text": "Your credentails:\nCLIENT_ID: K25YJQ3E34V2MXHR20RADQP2RRXKMG3MFBH0EOQXDWPTWIEF\nCLIENT_SECRET:IXN45POIIHEDSELYWOD5CYCL4YIHCBR0DVVJYJ4R5IHXOPUU\n"
                }
            ],
            "source": "CLIENT_ID = 'K25YJQ3E34V2MXHR20RADQP2RRXKMG3MFBH0EOQXDWPTWIEF' # your Foursquare ID\nCLIENT_SECRET = 'IXN45POIIHEDSELYWOD5CYCL4YIHCBR0DVVJYJ4R5IHXOPUU' # your Foursquare Secret\nVERSION = '20180604'\nLIMIT = 30\nprint('Your credentails:')\nprint('CLIENT_ID: ' + CLIENT_ID)\nprint('CLIENT_SECRET:' + CLIENT_SECRET)"
        },
        {
            "cell_type": "markdown",
            "metadata": {
                "button": false,
                "deletable": true,
                "new_sheet": false,
                "run_control": {
                    "read_only": false
                }
            },
            "source": "  "
        },
        {
            "cell_type": "markdown",
            "metadata": {
                "button": false,
                "deletable": true,
                "new_sheet": false,
                "run_control": {
                    "read_only": false
                }
            },
            "source": "#### Let's again assume that you are staying at the Conrad hotel. So let's start by converting the Contrad Hotel's address to its latitude and longitude coordinates."
        },
        {
            "cell_type": "markdown",
            "metadata": {},
            "source": "In order to define an instance of the geocoder, we need to define a user_agent. We will name our agent <em>foursquare_agent</em>, as shown below."
        },
        {
            "cell_type": "code",
            "execution_count": 3,
            "metadata": {
                "button": false,
                "collapsed": false,
                "deletable": true,
                "jupyter": {
                    "outputs_hidden": false
                },
                "new_sheet": false,
                "run_control": {
                    "read_only": false
                }
            },
            "outputs": [
                {
                    "name": "stdout",
                    "output_type": "stream",
                    "text": "40.7149555 -74.0153365\n"
                }
            ],
            "source": "address = '102 North End Ave, New York, NY'\n\ngeolocator = Nominatim(user_agent=\"foursquare_agent\")\nlocation = geolocator.geocode(address)\nlatitude = location.latitude\nlongitude = location.longitude\nprint(latitude, longitude)"
        },
        {
            "cell_type": "markdown",
            "metadata": {
                "button": false,
                "deletable": true,
                "new_sheet": false,
                "run_control": {
                    "read_only": false
                }
            },
            "source": "   "
        },
        {
            "cell_type": "markdown",
            "metadata": {
                "button": false,
                "deletable": true,
                "new_sheet": false,
                "run_control": {
                    "read_only": false
                }
            },
            "source": "<a id=\"item1\"></a>"
        },
        {
            "cell_type": "markdown",
            "metadata": {
                "button": false,
                "deletable": true,
                "new_sheet": false,
                "run_control": {
                    "read_only": false
                }
            },
            "source": "## 1. Search for a specific venue category\n> `https://api.foursquare.com/v2/venues/`**search**`?client_id=`**CLIENT_ID**`&client_secret=`**CLIENT_SECRET**`&ll=`**LATITUDE**`,`**LONGITUDE**`&v=`**VERSION**`&query=`**QUERY**`&radius=`**RADIUS**`&limit=`**LIMIT**"
        },
        {
            "cell_type": "markdown",
            "metadata": {
                "button": false,
                "deletable": true,
                "new_sheet": false,
                "run_control": {
                    "read_only": false
                }
            },
            "source": "#### Now, let's assume that it is lunch time, and you are craving Italian food. So, let's define a query to search for Italian food that is within 500 metres from the Conrad Hotel. "
        },
        {
            "cell_type": "code",
            "execution_count": 4,
            "metadata": {
                "button": false,
                "collapsed": false,
                "deletable": true,
                "jupyter": {
                    "outputs_hidden": false
                },
                "new_sheet": false,
                "run_control": {
                    "read_only": false
                },
                "scrolled": true
            },
            "outputs": [
                {
                    "name": "stdout",
                    "output_type": "stream",
                    "text": "Italian .... OK!\n"
                }
            ],
            "source": "search_query = 'Italian'\nradius = 500\nprint(search_query + ' .... OK!')"
        },
        {
            "cell_type": "markdown",
            "metadata": {
                "button": false,
                "deletable": true,
                "new_sheet": false,
                "run_control": {
                    "read_only": false
                }
            },
            "source": "#### Define the corresponding URL"
        },
        {
            "cell_type": "code",
            "execution_count": 5,
            "metadata": {
                "button": false,
                "collapsed": false,
                "deletable": true,
                "jupyter": {
                    "outputs_hidden": false
                },
                "new_sheet": false,
                "run_control": {
                    "read_only": false
                }
            },
            "outputs": [
                {
                    "data": {
                        "text/plain": "'https://api.foursquare.com/v2/venues/search?client_id=K25YJQ3E34V2MXHR20RADQP2RRXKMG3MFBH0EOQXDWPTWIEF&client_secret=IXN45POIIHEDSELYWOD5CYCL4YIHCBR0DVVJYJ4R5IHXOPUU&ll=40.7149555,-74.0153365&v=20180604&query=Italian&radius=500&limit=30'"
                    },
                    "execution_count": 5,
                    "metadata": {},
                    "output_type": "execute_result"
                }
            ],
            "source": "url = 'https://api.foursquare.com/v2/venues/search?client_id={}&client_secret={}&ll={},{}&v={}&query={}&radius={}&limit={}'.format(CLIENT_ID, CLIENT_SECRET, latitude, longitude, VERSION, search_query, radius, LIMIT)\nurl"
        },
        {
            "cell_type": "markdown",
            "metadata": {
                "button": false,
                "deletable": true,
                "new_sheet": false,
                "run_control": {
                    "read_only": false
                }
            },
            "source": "#### Send the GET Request and examine the results"
        },
        {
            "cell_type": "code",
            "execution_count": 6,
            "metadata": {
                "button": false,
                "collapsed": false,
                "deletable": true,
                "jupyter": {
                    "outputs_hidden": false
                },
                "new_sheet": false,
                "run_control": {
                    "read_only": false
                },
                "scrolled": true
            },
            "outputs": [
                {
                    "data": {
                        "text/plain": "{'meta': {'code': 200, 'requestId': '5ea2541aedbcad001b8c2c70'},\n 'response': {'venues': [{'id': '4fa862b3e4b0ebff2f749f06',\n    'name': \"Harry's Italian Pizza Bar\",\n    'location': {'address': '225 Murray St',\n     'lat': 40.71521779064671,\n     'lng': -74.01473940209351,\n     'labeledLatLngs': [{'label': 'display',\n       'lat': 40.71521779064671,\n       'lng': -74.01473940209351},\n      {'label': 'entrance', 'lat': 40.715361, 'lng': -74.014975}],\n     'distance': 58,\n     'postalCode': '10282',\n     'cc': 'US',\n     'city': 'New York',\n     'state': 'NY',\n     'country': 'United States',\n     'formattedAddress': ['225 Murray St',\n      'New York, NY 10282',\n      'United States']},\n    'categories': [{'id': '4bf58dd8d48988d1ca941735',\n      'name': 'Pizza Place',\n      'pluralName': 'Pizza Places',\n      'shortName': 'Pizza',\n      'icon': {'prefix': 'https://ss3.4sqi.net/img/categories_v2/food/pizza_',\n       'suffix': '.png'},\n      'primary': True}],\n    'delivery': {'id': '294544',\n     'url': 'https://www.seamless.com/menu/harrys-italian-pizza-bar-225-murray-st-new-york/294544?affiliate=1131&utm_source=foursquare-affiliate-network&utm_medium=affiliate&utm_campaign=1131&utm_content=294544',\n     'provider': {'name': 'seamless',\n      'icon': {'prefix': 'https://fastly.4sqi.net/img/general/cap/',\n       'sizes': [40, 50],\n       'name': '/delivery_provider_seamless_20180129.png'}}},\n    'referralId': 'v-1587696716',\n    'hasPerk': False},\n   {'id': '4f3232e219836c91c7bfde94',\n    'name': 'Conca Cucina Italian Restaurant',\n    'location': {'address': '63 W Broadway',\n     'lat': 40.714484000000006,\n     'lng': -74.00980600000001,\n     'labeledLatLngs': [{'label': 'display',\n       'lat': 40.714484000000006,\n       'lng': -74.00980600000001}],\n     'distance': 469,\n     'postalCode': '10007',\n     'cc': 'US',\n     'city': 'New York',\n     'state': 'NY',\n     'country': 'United States',\n     'formattedAddress': ['63 W Broadway',\n      'New York, NY 10007',\n      'United States']},\n    'categories': [{'id': '4d4b7105d754a06374d81259',\n      'name': 'Food',\n      'pluralName': 'Food',\n      'shortName': 'Food',\n      'icon': {'prefix': 'https://ss3.4sqi.net/img/categories_v2/food/default_',\n       'suffix': '.png'},\n      'primary': True}],\n    'referralId': 'v-1587696716',\n    'hasPerk': False},\n   {'id': '3fd66200f964a520f4e41ee3',\n    'name': 'Ecco',\n    'location': {'address': '124 Chambers St',\n     'crossStreet': 'btwn Church St & W Broadway',\n     'lat': 40.71533713859952,\n     'lng': -74.00884766217825,\n     'labeledLatLngs': [{'label': 'display',\n       'lat': 40.71533713859952,\n       'lng': -74.00884766217825},\n      {'label': 'entrance', 'lat': 40.715202, 'lng': -74.008779}],\n     'distance': 549,\n     'postalCode': '10007',\n     'cc': 'US',\n     'city': 'New York',\n     'state': 'NY',\n     'country': 'United States',\n     'formattedAddress': ['124 Chambers St (btwn Church St & W Broadway)',\n      'New York, NY 10007',\n      'United States']},\n    'categories': [{'id': '4bf58dd8d48988d110941735',\n      'name': 'Italian Restaurant',\n      'pluralName': 'Italian Restaurants',\n      'shortName': 'Italian',\n      'icon': {'prefix': 'https://ss3.4sqi.net/img/categories_v2/food/italian_',\n       'suffix': '.png'},\n      'primary': True}],\n    'referralId': 'v-1587696716',\n    'hasPerk': False}]}}"
                    },
                    "execution_count": 6,
                    "metadata": {},
                    "output_type": "execute_result"
                }
            ],
            "source": "results = requests.get(url).json()\nresults"
        },
        {
            "cell_type": "markdown",
            "metadata": {
                "button": false,
                "deletable": true,
                "new_sheet": false,
                "run_control": {
                    "read_only": false
                }
            },
            "source": "#### Get relevant part of JSON and transform it into a *pandas* dataframe"
        },
        {
            "cell_type": "code",
            "execution_count": 7,
            "metadata": {
                "button": false,
                "collapsed": false,
                "deletable": true,
                "jupyter": {
                    "outputs_hidden": false
                },
                "new_sheet": false,
                "run_control": {
                    "read_only": false
                }
            },
            "outputs": [
                {
                    "name": "stderr",
                    "output_type": "stream",
                    "text": "/home/jupyterlab/conda/envs/python/lib/python3.6/site-packages/ipykernel_launcher.py:5: FutureWarning: pandas.io.json.json_normalize is deprecated, use pandas.json_normalize instead\n  \"\"\"\n"
                },
                {
                    "data": {
                        "text/html": "<div>\n<style scoped>\n    .dataframe tbody tr th:only-of-type {\n        vertical-align: middle;\n    }\n\n    .dataframe tbody tr th {\n        vertical-align: top;\n    }\n\n    .dataframe thead th {\n        text-align: right;\n    }\n</style>\n<table border=\"1\" class=\"dataframe\">\n  <thead>\n    <tr style=\"text-align: right;\">\n      <th></th>\n      <th>id</th>\n      <th>name</th>\n      <th>categories</th>\n      <th>referralId</th>\n      <th>hasPerk</th>\n      <th>location.address</th>\n      <th>location.lat</th>\n      <th>location.lng</th>\n      <th>location.labeledLatLngs</th>\n      <th>location.distance</th>\n      <th>...</th>\n      <th>location.state</th>\n      <th>location.country</th>\n      <th>location.formattedAddress</th>\n      <th>delivery.id</th>\n      <th>delivery.url</th>\n      <th>delivery.provider.name</th>\n      <th>delivery.provider.icon.prefix</th>\n      <th>delivery.provider.icon.sizes</th>\n      <th>delivery.provider.icon.name</th>\n      <th>location.crossStreet</th>\n    </tr>\n  </thead>\n  <tbody>\n    <tr>\n      <th>0</th>\n      <td>4fa862b3e4b0ebff2f749f06</td>\n      <td>Harry's Italian Pizza Bar</td>\n      <td>[{'id': '4bf58dd8d48988d1ca941735', 'name': 'P...</td>\n      <td>v-1587696716</td>\n      <td>False</td>\n      <td>225 Murray St</td>\n      <td>40.715218</td>\n      <td>-74.014739</td>\n      <td>[{'label': 'display', 'lat': 40.71521779064671...</td>\n      <td>58</td>\n      <td>...</td>\n      <td>NY</td>\n      <td>United States</td>\n      <td>[225 Murray St, New York, NY 10282, United Sta...</td>\n      <td>294544</td>\n      <td>https://www.seamless.com/menu/harrys-italian-p...</td>\n      <td>seamless</td>\n      <td>https://fastly.4sqi.net/img/general/cap/</td>\n      <td>[40, 50]</td>\n      <td>/delivery_provider_seamless_20180129.png</td>\n      <td>NaN</td>\n    </tr>\n    <tr>\n      <th>1</th>\n      <td>4f3232e219836c91c7bfde94</td>\n      <td>Conca Cucina Italian Restaurant</td>\n      <td>[{'id': '4d4b7105d754a06374d81259', 'name': 'F...</td>\n      <td>v-1587696716</td>\n      <td>False</td>\n      <td>63 W Broadway</td>\n      <td>40.714484</td>\n      <td>-74.009806</td>\n      <td>[{'label': 'display', 'lat': 40.71448400000000...</td>\n      <td>469</td>\n      <td>...</td>\n      <td>NY</td>\n      <td>United States</td>\n      <td>[63 W Broadway, New York, NY 10007, United Sta...</td>\n      <td>NaN</td>\n      <td>NaN</td>\n      <td>NaN</td>\n      <td>NaN</td>\n      <td>NaN</td>\n      <td>NaN</td>\n      <td>NaN</td>\n    </tr>\n    <tr>\n      <th>2</th>\n      <td>3fd66200f964a520f4e41ee3</td>\n      <td>Ecco</td>\n      <td>[{'id': '4bf58dd8d48988d110941735', 'name': 'I...</td>\n      <td>v-1587696716</td>\n      <td>False</td>\n      <td>124 Chambers St</td>\n      <td>40.715337</td>\n      <td>-74.008848</td>\n      <td>[{'label': 'display', 'lat': 40.71533713859952...</td>\n      <td>549</td>\n      <td>...</td>\n      <td>NY</td>\n      <td>United States</td>\n      <td>[124 Chambers St (btwn Church St &amp; W Broadway)...</td>\n      <td>NaN</td>\n      <td>NaN</td>\n      <td>NaN</td>\n      <td>NaN</td>\n      <td>NaN</td>\n      <td>NaN</td>\n      <td>btwn Church St &amp; W Broadway</td>\n    </tr>\n  </tbody>\n</table>\n<p>3 rows \u00d7 23 columns</p>\n</div>",
                        "text/plain": "                         id                             name  \\\n0  4fa862b3e4b0ebff2f749f06        Harry's Italian Pizza Bar   \n1  4f3232e219836c91c7bfde94  Conca Cucina Italian Restaurant   \n2  3fd66200f964a520f4e41ee3                             Ecco   \n\n                                          categories    referralId  hasPerk  \\\n0  [{'id': '4bf58dd8d48988d1ca941735', 'name': 'P...  v-1587696716    False   \n1  [{'id': '4d4b7105d754a06374d81259', 'name': 'F...  v-1587696716    False   \n2  [{'id': '4bf58dd8d48988d110941735', 'name': 'I...  v-1587696716    False   \n\n  location.address  location.lat  location.lng  \\\n0    225 Murray St     40.715218    -74.014739   \n1    63 W Broadway     40.714484    -74.009806   \n2  124 Chambers St     40.715337    -74.008848   \n\n                             location.labeledLatLngs  location.distance  ...  \\\n0  [{'label': 'display', 'lat': 40.71521779064671...                 58  ...   \n1  [{'label': 'display', 'lat': 40.71448400000000...                469  ...   \n2  [{'label': 'display', 'lat': 40.71533713859952...                549  ...   \n\n  location.state location.country  \\\n0             NY    United States   \n1             NY    United States   \n2             NY    United States   \n\n                           location.formattedAddress delivery.id  \\\n0  [225 Murray St, New York, NY 10282, United Sta...      294544   \n1  [63 W Broadway, New York, NY 10007, United Sta...         NaN   \n2  [124 Chambers St (btwn Church St & W Broadway)...         NaN   \n\n                                        delivery.url delivery.provider.name  \\\n0  https://www.seamless.com/menu/harrys-italian-p...               seamless   \n1                                                NaN                    NaN   \n2                                                NaN                    NaN   \n\n              delivery.provider.icon.prefix delivery.provider.icon.sizes  \\\n0  https://fastly.4sqi.net/img/general/cap/                     [40, 50]   \n1                                       NaN                          NaN   \n2                                       NaN                          NaN   \n\n                delivery.provider.icon.name         location.crossStreet  \n0  /delivery_provider_seamless_20180129.png                          NaN  \n1                                       NaN                          NaN  \n2                                       NaN  btwn Church St & W Broadway  \n\n[3 rows x 23 columns]"
                    },
                    "execution_count": 7,
                    "metadata": {},
                    "output_type": "execute_result"
                }
            ],
            "source": "# assign relevant part of JSON to venues\nvenues = results['response']['venues']\n\n# tranform venues into a dataframe\ndataframe = json_normalize(venues)\ndataframe.head()"
        },
        {
            "cell_type": "markdown",
            "metadata": {
                "button": false,
                "deletable": true,
                "new_sheet": false,
                "run_control": {
                    "read_only": false
                }
            },
            "source": "#### Define information of interest and filter dataframe"
        },
        {
            "cell_type": "code",
            "execution_count": 8,
            "metadata": {
                "button": false,
                "collapsed": false,
                "deletable": true,
                "jupyter": {
                    "outputs_hidden": false
                },
                "new_sheet": false,
                "run_control": {
                    "read_only": false
                },
                "scrolled": true
            },
            "outputs": [
                {
                    "data": {
                        "text/html": "<div>\n<style scoped>\n    .dataframe tbody tr th:only-of-type {\n        vertical-align: middle;\n    }\n\n    .dataframe tbody tr th {\n        vertical-align: top;\n    }\n\n    .dataframe thead th {\n        text-align: right;\n    }\n</style>\n<table border=\"1\" class=\"dataframe\">\n  <thead>\n    <tr style=\"text-align: right;\">\n      <th></th>\n      <th>name</th>\n      <th>categories</th>\n      <th>address</th>\n      <th>lat</th>\n      <th>lng</th>\n      <th>labeledLatLngs</th>\n      <th>distance</th>\n      <th>postalCode</th>\n      <th>cc</th>\n      <th>city</th>\n      <th>state</th>\n      <th>country</th>\n      <th>formattedAddress</th>\n      <th>crossStreet</th>\n      <th>id</th>\n    </tr>\n  </thead>\n  <tbody>\n    <tr>\n      <th>0</th>\n      <td>Harry's Italian Pizza Bar</td>\n      <td>Pizza Place</td>\n      <td>225 Murray St</td>\n      <td>40.715218</td>\n      <td>-74.014739</td>\n      <td>[{'label': 'display', 'lat': 40.71521779064671...</td>\n      <td>58</td>\n      <td>10282</td>\n      <td>US</td>\n      <td>New York</td>\n      <td>NY</td>\n      <td>United States</td>\n      <td>[225 Murray St, New York, NY 10282, United Sta...</td>\n      <td>NaN</td>\n      <td>4fa862b3e4b0ebff2f749f06</td>\n    </tr>\n    <tr>\n      <th>1</th>\n      <td>Conca Cucina Italian Restaurant</td>\n      <td>Food</td>\n      <td>63 W Broadway</td>\n      <td>40.714484</td>\n      <td>-74.009806</td>\n      <td>[{'label': 'display', 'lat': 40.71448400000000...</td>\n      <td>469</td>\n      <td>10007</td>\n      <td>US</td>\n      <td>New York</td>\n      <td>NY</td>\n      <td>United States</td>\n      <td>[63 W Broadway, New York, NY 10007, United Sta...</td>\n      <td>NaN</td>\n      <td>4f3232e219836c91c7bfde94</td>\n    </tr>\n    <tr>\n      <th>2</th>\n      <td>Ecco</td>\n      <td>Italian Restaurant</td>\n      <td>124 Chambers St</td>\n      <td>40.715337</td>\n      <td>-74.008848</td>\n      <td>[{'label': 'display', 'lat': 40.71533713859952...</td>\n      <td>549</td>\n      <td>10007</td>\n      <td>US</td>\n      <td>New York</td>\n      <td>NY</td>\n      <td>United States</td>\n      <td>[124 Chambers St (btwn Church St &amp; W Broadway)...</td>\n      <td>btwn Church St &amp; W Broadway</td>\n      <td>3fd66200f964a520f4e41ee3</td>\n    </tr>\n  </tbody>\n</table>\n</div>",
                        "text/plain": "                              name          categories          address  \\\n0        Harry's Italian Pizza Bar         Pizza Place    225 Murray St   \n1  Conca Cucina Italian Restaurant                Food    63 W Broadway   \n2                             Ecco  Italian Restaurant  124 Chambers St   \n\n         lat        lng                                     labeledLatLngs  \\\n0  40.715218 -74.014739  [{'label': 'display', 'lat': 40.71521779064671...   \n1  40.714484 -74.009806  [{'label': 'display', 'lat': 40.71448400000000...   \n2  40.715337 -74.008848  [{'label': 'display', 'lat': 40.71533713859952...   \n\n   distance postalCode  cc      city state        country  \\\n0        58      10282  US  New York    NY  United States   \n1       469      10007  US  New York    NY  United States   \n2       549      10007  US  New York    NY  United States   \n\n                                    formattedAddress  \\\n0  [225 Murray St, New York, NY 10282, United Sta...   \n1  [63 W Broadway, New York, NY 10007, United Sta...   \n2  [124 Chambers St (btwn Church St & W Broadway)...   \n\n                   crossStreet                        id  \n0                          NaN  4fa862b3e4b0ebff2f749f06  \n1                          NaN  4f3232e219836c91c7bfde94  \n2  btwn Church St & W Broadway  3fd66200f964a520f4e41ee3  "
                    },
                    "execution_count": 8,
                    "metadata": {},
                    "output_type": "execute_result"
                }
            ],
            "source": "# keep only columns that include venue name, and anything that is associated with location\nfiltered_columns = ['name', 'categories'] + [col for col in dataframe.columns if col.startswith('location.')] + ['id']\ndataframe_filtered = dataframe.loc[:, filtered_columns]\n\n# function that extracts the category of the venue\ndef get_category_type(row):\n    try:\n        categories_list = row['categories']\n    except:\n        categories_list = row['venue.categories']\n        \n    if len(categories_list) == 0:\n        return None\n    else:\n        return categories_list[0]['name']\n\n# filter the category for each row\ndataframe_filtered['categories'] = dataframe_filtered.apply(get_category_type, axis=1)\n\n# clean column names by keeping only last term\ndataframe_filtered.columns = [column.split('.')[-1] for column in dataframe_filtered.columns]\n\ndataframe_filtered"
        },
        {
            "cell_type": "markdown",
            "metadata": {
                "button": false,
                "deletable": true,
                "new_sheet": false,
                "run_control": {
                    "read_only": false
                }
            },
            "source": "#### Let's visualize the Italian restaurants that are nearby"
        },
        {
            "cell_type": "code",
            "execution_count": 9,
            "metadata": {
                "button": false,
                "collapsed": false,
                "deletable": true,
                "jupyter": {
                    "outputs_hidden": false
                },
                "new_sheet": false,
                "run_control": {
                    "read_only": false
                }
            },
            "outputs": [
                {
                    "data": {
                        "text/plain": "0          Harry's Italian Pizza Bar\n1    Conca Cucina Italian Restaurant\n2                               Ecco\nName: name, dtype: object"
                    },
                    "execution_count": 9,
                    "metadata": {},
                    "output_type": "execute_result"
                }
            ],
            "source": "dataframe_filtered.name"
        },
        {
            "cell_type": "code",
            "execution_count": 11,
            "metadata": {
                "button": false,
                "collapsed": false,
                "deletable": true,
                "jupyter": {
                    "outputs_hidden": false
                },
                "new_sheet": false,
                "run_control": {
                    "read_only": false
                }
            },
            "outputs": [
                {
                    "data": {
                        "text/html": "<div style=\"width:100%;\"><div style=\"position:relative;width:100%;height:0;padding-bottom:60%;\"><iframe src=\"about:blank\" style=\"position:absolute;width:100%;height:100%;left:0;top:0;border:none !important;\" data-html=PCFET0NUWVBFIGh0bWw+CjxoZWFkPiAgICAKICAgIDxtZXRhIGh0dHAtZXF1aXY9ImNvbnRlbnQtdHlwZSIgY29udGVudD0idGV4dC9odG1sOyBjaGFyc2V0PVVURi04IiAvPgogICAgPHNjcmlwdD5MX1BSRUZFUl9DQU5WQVMgPSBmYWxzZTsgTF9OT19UT1VDSCA9IGZhbHNlOyBMX0RJU0FCTEVfM0QgPSBmYWxzZTs8L3NjcmlwdD4KICAgIDxzY3JpcHQgc3JjPSJodHRwczovL2Nkbi5qc2RlbGl2ci5uZXQvbnBtL2xlYWZsZXRAMS4yLjAvZGlzdC9sZWFmbGV0LmpzIj48L3NjcmlwdD4KICAgIDxzY3JpcHQgc3JjPSJodHRwczovL2FqYXguZ29vZ2xlYXBpcy5jb20vYWpheC9saWJzL2pxdWVyeS8xLjExLjEvanF1ZXJ5Lm1pbi5qcyI+PC9zY3JpcHQ+CiAgICA8c2NyaXB0IHNyYz0iaHR0cHM6Ly9tYXhjZG4uYm9vdHN0cmFwY2RuLmNvbS9ib290c3RyYXAvMy4yLjAvanMvYm9vdHN0cmFwLm1pbi5qcyI+PC9zY3JpcHQ+CiAgICA8c2NyaXB0IHNyYz0iaHR0cHM6Ly9jZG5qcy5jbG91ZGZsYXJlLmNvbS9hamF4L2xpYnMvTGVhZmxldC5hd2Vzb21lLW1hcmtlcnMvMi4wLjIvbGVhZmxldC5hd2Vzb21lLW1hcmtlcnMuanMiPjwvc2NyaXB0PgogICAgPGxpbmsgcmVsPSJzdHlsZXNoZWV0IiBocmVmPSJodHRwczovL2Nkbi5qc2RlbGl2ci5uZXQvbnBtL2xlYWZsZXRAMS4yLjAvZGlzdC9sZWFmbGV0LmNzcyIvPgogICAgPGxpbmsgcmVsPSJzdHlsZXNoZWV0IiBocmVmPSJodHRwczovL21heGNkbi5ib290c3RyYXBjZG4uY29tL2Jvb3RzdHJhcC8zLjIuMC9jc3MvYm9vdHN0cmFwLm1pbi5jc3MiLz4KICAgIDxsaW5rIHJlbD0ic3R5bGVzaGVldCIgaHJlZj0iaHR0cHM6Ly9tYXhjZG4uYm9vdHN0cmFwY2RuLmNvbS9ib290c3RyYXAvMy4yLjAvY3NzL2Jvb3RzdHJhcC10aGVtZS5taW4uY3NzIi8+CiAgICA8bGluayByZWw9InN0eWxlc2hlZXQiIGhyZWY9Imh0dHBzOi8vbWF4Y2RuLmJvb3RzdHJhcGNkbi5jb20vZm9udC1hd2Vzb21lLzQuNi4zL2Nzcy9mb250LWF3ZXNvbWUubWluLmNzcyIvPgogICAgPGxpbmsgcmVsPSJzdHlsZXNoZWV0IiBocmVmPSJodHRwczovL2NkbmpzLmNsb3VkZmxhcmUuY29tL2FqYXgvbGlicy9MZWFmbGV0LmF3ZXNvbWUtbWFya2Vycy8yLjAuMi9sZWFmbGV0LmF3ZXNvbWUtbWFya2Vycy5jc3MiLz4KICAgIDxsaW5rIHJlbD0ic3R5bGVzaGVldCIgaHJlZj0iaHR0cHM6Ly9yYXdnaXQuY29tL3B5dGhvbi12aXN1YWxpemF0aW9uL2ZvbGl1bS9tYXN0ZXIvZm9saXVtL3RlbXBsYXRlcy9sZWFmbGV0LmF3ZXNvbWUucm90YXRlLmNzcyIvPgogICAgPHN0eWxlPmh0bWwsIGJvZHkge3dpZHRoOiAxMDAlO2hlaWdodDogMTAwJTttYXJnaW46IDA7cGFkZGluZzogMDt9PC9zdHlsZT4KICAgIDxzdHlsZT4jbWFwIHtwb3NpdGlvbjphYnNvbHV0ZTt0b3A6MDtib3R0b206MDtyaWdodDowO2xlZnQ6MDt9PC9zdHlsZT4KICAgIAogICAgICAgICAgICA8c3R5bGU+ICNtYXBfNWFkYTE1ZTc2NGQ2NGMwNDgyZjkwNGM4OGYwODQwYTMgewogICAgICAgICAgICAgICAgcG9zaXRpb24gOiByZWxhdGl2ZTsKICAgICAgICAgICAgICAgIHdpZHRoIDogMTAwLjAlOwogICAgICAgICAgICAgICAgaGVpZ2h0OiAxMDAuMCU7CiAgICAgICAgICAgICAgICBsZWZ0OiAwLjAlOwogICAgICAgICAgICAgICAgdG9wOiAwLjAlOwogICAgICAgICAgICAgICAgfQogICAgICAgICAgICA8L3N0eWxlPgogICAgICAgIAo8L2hlYWQ+Cjxib2R5PiAgICAKICAgIAogICAgICAgICAgICA8ZGl2IGNsYXNzPSJmb2xpdW0tbWFwIiBpZD0ibWFwXzVhZGExNWU3NjRkNjRjMDQ4MmY5MDRjODhmMDg0MGEzIiA+PC9kaXY+CiAgICAgICAgCjwvYm9keT4KPHNjcmlwdD4gICAgCiAgICAKCiAgICAgICAgICAgIAogICAgICAgICAgICAgICAgdmFyIGJvdW5kcyA9IG51bGw7CiAgICAgICAgICAgIAoKICAgICAgICAgICAgdmFyIG1hcF81YWRhMTVlNzY0ZDY0YzA0ODJmOTA0Yzg4ZjA4NDBhMyA9IEwubWFwKAogICAgICAgICAgICAgICAgICAgICAgICAgICAgICAgICAgJ21hcF81YWRhMTVlNzY0ZDY0YzA0ODJmOTA0Yzg4ZjA4NDBhMycsCiAgICAgICAgICAgICAgICAgICAgICAgICAgICAgICAgICB7Y2VudGVyOiBbNDAuNzE0OTU1NSwtNzQuMDE1MzM2NV0sCiAgICAgICAgICAgICAgICAgICAgICAgICAgICAgICAgICB6b29tOiAxMywKICAgICAgICAgICAgICAgICAgICAgICAgICAgICAgICAgIG1heEJvdW5kczogYm91bmRzLAogICAgICAgICAgICAgICAgICAgICAgICAgICAgICAgICAgbGF5ZXJzOiBbXSwKICAgICAgICAgICAgICAgICAgICAgICAgICAgICAgICAgIHdvcmxkQ29weUp1bXA6IGZhbHNlLAogICAgICAgICAgICAgICAgICAgICAgICAgICAgICAgICAgY3JzOiBMLkNSUy5FUFNHMzg1NwogICAgICAgICAgICAgICAgICAgICAgICAgICAgICAgICB9KTsKICAgICAgICAgICAgCiAgICAgICAgCiAgICAKICAgICAgICAgICAgdmFyIHRpbGVfbGF5ZXJfYTY0OGE5MmM4NDg3NDVlNTk4YzAyZGNkYjgwYWZmOWUgPSBMLnRpbGVMYXllcigKICAgICAgICAgICAgICAgICdodHRwczovL3tzfS50aWxlLm9wZW5zdHJlZXRtYXAub3JnL3t6fS97eH0ve3l9LnBuZycsCiAgICAgICAgICAgICAgICB7CiAgImF0dHJpYnV0aW9uIjogbnVsbCwKICAiZGV0ZWN0UmV0aW5hIjogZmFsc2UsCiAgIm1heFpvb20iOiAxOCwKICAibWluWm9vbSI6IDEsCiAgIm5vV3JhcCI6IGZhbHNlLAogICJzdWJkb21haW5zIjogImFiYyIKfQogICAgICAgICAgICAgICAgKS5hZGRUbyhtYXBfNWFkYTE1ZTc2NGQ2NGMwNDgyZjkwNGM4OGYwODQwYTMpOwogICAgICAgIAogICAgCiAgICAgICAgICAgIHZhciBjaXJjbGVfbWFya2VyXzAzN2UwNjRhMDM0ZDQxOWQ4ZTNhMTJmYmMxMDBlNDdkID0gTC5jaXJjbGVNYXJrZXIoCiAgICAgICAgICAgICAgICBbNDAuNzE0OTU1NSwtNzQuMDE1MzM2NV0sCiAgICAgICAgICAgICAgICB7CiAgImJ1YmJsaW5nTW91c2VFdmVudHMiOiB0cnVlLAogICJjb2xvciI6ICJyZWQiLAogICJkYXNoQXJyYXkiOiBudWxsLAogICJkYXNoT2Zmc2V0IjogbnVsbCwKICAiZmlsbCI6IHRydWUsCiAgImZpbGxDb2xvciI6ICJyZWQiLAogICJmaWxsT3BhY2l0eSI6IDAuNiwKICAiZmlsbFJ1bGUiOiAiZXZlbm9kZCIsCiAgImxpbmVDYXAiOiAicm91bmQiLAogICJsaW5lSm9pbiI6ICJyb3VuZCIsCiAgIm9wYWNpdHkiOiAxLjAsCiAgInJhZGl1cyI6IDEwLAogICJzdHJva2UiOiB0cnVlLAogICJ3ZWlnaHQiOiAzCn0KICAgICAgICAgICAgICAgICkuYWRkVG8obWFwXzVhZGExNWU3NjRkNjRjMDQ4MmY5MDRjODhmMDg0MGEzKTsKICAgICAgICAgICAgCiAgICAKICAgICAgICAgICAgdmFyIHBvcHVwXzRiZjQyMjVmYTBiNDQ2YjNiNmI4ZGYxZWY4NWVkZThjID0gTC5wb3B1cCh7bWF4V2lkdGg6ICczMDAnfSk7CgogICAgICAgICAgICAKICAgICAgICAgICAgICAgIHZhciBodG1sXzM5N2UzZjY0M2FiYjQ4NDM4YzY1NWJkNTJlMjA5YzYyID0gJCgnPGRpdiBpZD0iaHRtbF8zOTdlM2Y2NDNhYmI0ODQzOGM2NTViZDUyZTIwOWM2MiIgc3R5bGU9IndpZHRoOiAxMDAuMCU7IGhlaWdodDogMTAwLjAlOyI+Q29ucmFkIEhvdGVsPC9kaXY+JylbMF07CiAgICAgICAgICAgICAgICBwb3B1cF80YmY0MjI1ZmEwYjQ0NmIzYjZiOGRmMWVmODVlZGU4Yy5zZXRDb250ZW50KGh0bWxfMzk3ZTNmNjQzYWJiNDg0MzhjNjU1YmQ1MmUyMDljNjIpOwogICAgICAgICAgICAKCiAgICAgICAgICAgIGNpcmNsZV9tYXJrZXJfMDM3ZTA2NGEwMzRkNDE5ZDhlM2ExMmZiYzEwMGU0N2QuYmluZFBvcHVwKHBvcHVwXzRiZjQyMjVmYTBiNDQ2YjNiNmI4ZGYxZWY4NWVkZThjKTsKCiAgICAgICAgICAgIAogICAgICAgIAogICAgCiAgICAgICAgICAgIHZhciBjaXJjbGVfbWFya2VyX2UwZjUyYmZlNDEyYzRlMDg5NjE1YTNhMDUyNjljMTE0ID0gTC5jaXJjbGVNYXJrZXIoCiAgICAgICAgICAgICAgICBbNDAuNzE1MjE3NzkwNjQ2NzEsLTc0LjAxNDczOTQwMjA5MzUxXSwKICAgICAgICAgICAgICAgIHsKICAiYnViYmxpbmdNb3VzZUV2ZW50cyI6IHRydWUsCiAgImNvbG9yIjogImJsdWUiLAogICJkYXNoQXJyYXkiOiBudWxsLAogICJkYXNoT2Zmc2V0IjogbnVsbCwKICAiZmlsbCI6IHRydWUsCiAgImZpbGxDb2xvciI6ICJibHVlIiwKICAiZmlsbE9wYWNpdHkiOiAwLjYsCiAgImZpbGxSdWxlIjogImV2ZW5vZGQiLAogICJsaW5lQ2FwIjogInJvdW5kIiwKICAibGluZUpvaW4iOiAicm91bmQiLAogICJvcGFjaXR5IjogMS4wLAogICJyYWRpdXMiOiA1LAogICJzdHJva2UiOiB0cnVlLAogICJ3ZWlnaHQiOiAzCn0KICAgICAgICAgICAgICAgICkuYWRkVG8obWFwXzVhZGExNWU3NjRkNjRjMDQ4MmY5MDRjODhmMDg0MGEzKTsKICAgICAgICAgICAgCiAgICAKICAgICAgICAgICAgdmFyIHBvcHVwX2I2ODhhNzM1Yjg1MzRmMjM4NzE2MDEzNjBjZDBmZDQ4ID0gTC5wb3B1cCh7bWF4V2lkdGg6ICczMDAnfSk7CgogICAgICAgICAgICAKICAgICAgICAgICAgICAgIHZhciBodG1sXzM0Zjc0YzI3ZTQyYjQ3OGJiNzI4NTc4OTE2YzA5ODAyID0gJCgnPGRpdiBpZD0iaHRtbF8zNGY3NGMyN2U0MmI0NzhiYjcyODU3ODkxNmMwOTgwMiIgc3R5bGU9IndpZHRoOiAxMDAuMCU7IGhlaWdodDogMTAwLjAlOyI+UGl6emEgUGxhY2U8L2Rpdj4nKVswXTsKICAgICAgICAgICAgICAgIHBvcHVwX2I2ODhhNzM1Yjg1MzRmMjM4NzE2MDEzNjBjZDBmZDQ4LnNldENvbnRlbnQoaHRtbF8zNGY3NGMyN2U0MmI0NzhiYjcyODU3ODkxNmMwOTgwMik7CiAgICAgICAgICAgIAoKICAgICAgICAgICAgY2lyY2xlX21hcmtlcl9lMGY1MmJmZTQxMmM0ZTA4OTYxNWEzYTA1MjY5YzExNC5iaW5kUG9wdXAocG9wdXBfYjY4OGE3MzViODUzNGYyMzg3MTYwMTM2MGNkMGZkNDgpOwoKICAgICAgICAgICAgCiAgICAgICAgCiAgICAKICAgICAgICAgICAgdmFyIGNpcmNsZV9tYXJrZXJfY2VjYzJmNDk4ZTE5NDQ0YTg3NGIxNmJhYmY3YWVjNzcgPSBMLmNpcmNsZU1hcmtlcigKICAgICAgICAgICAgICAgIFs0MC43MTQ0ODQwMDAwMDAwMDYsLTc0LjAwOTgwNjAwMDAwMDAxXSwKICAgICAgICAgICAgICAgIHsKICAiYnViYmxpbmdNb3VzZUV2ZW50cyI6IHRydWUsCiAgImNvbG9yIjogImJsdWUiLAogICJkYXNoQXJyYXkiOiBudWxsLAogICJkYXNoT2Zmc2V0IjogbnVsbCwKICAiZmlsbCI6IHRydWUsCiAgImZpbGxDb2xvciI6ICJibHVlIiwKICAiZmlsbE9wYWNpdHkiOiAwLjYsCiAgImZpbGxSdWxlIjogImV2ZW5vZGQiLAogICJsaW5lQ2FwIjogInJvdW5kIiwKICAibGluZUpvaW4iOiAicm91bmQiLAogICJvcGFjaXR5IjogMS4wLAogICJyYWRpdXMiOiA1LAogICJzdHJva2UiOiB0cnVlLAogICJ3ZWlnaHQiOiAzCn0KICAgICAgICAgICAgICAgICkuYWRkVG8obWFwXzVhZGExNWU3NjRkNjRjMDQ4MmY5MDRjODhmMDg0MGEzKTsKICAgICAgICAgICAgCiAgICAKICAgICAgICAgICAgdmFyIHBvcHVwXzRjNjYwNzU4Yjk1YTQ1NjNiMjk5NzU2NjJiNGRjMzRkID0gTC5wb3B1cCh7bWF4V2lkdGg6ICczMDAnfSk7CgogICAgICAgICAgICAKICAgICAgICAgICAgICAgIHZhciBodG1sXzdhY2U1NzRiZjgwMTQ0YmFhZDcxNzVlYjNlYWQ3OWU0ID0gJCgnPGRpdiBpZD0iaHRtbF83YWNlNTc0YmY4MDE0NGJhYWQ3MTc1ZWIzZWFkNzllNCIgc3R5bGU9IndpZHRoOiAxMDAuMCU7IGhlaWdodDogMTAwLjAlOyI+Rm9vZDwvZGl2PicpWzBdOwogICAgICAgICAgICAgICAgcG9wdXBfNGM2NjA3NThiOTVhNDU2M2IyOTk3NTY2MmI0ZGMzNGQuc2V0Q29udGVudChodG1sXzdhY2U1NzRiZjgwMTQ0YmFhZDcxNzVlYjNlYWQ3OWU0KTsKICAgICAgICAgICAgCgogICAgICAgICAgICBjaXJjbGVfbWFya2VyX2NlY2MyZjQ5OGUxOTQ0NGE4NzRiMTZiYWJmN2FlYzc3LmJpbmRQb3B1cChwb3B1cF80YzY2MDc1OGI5NWE0NTYzYjI5OTc1NjYyYjRkYzM0ZCk7CgogICAgICAgICAgICAKICAgICAgICAKICAgIAogICAgICAgICAgICB2YXIgY2lyY2xlX21hcmtlcl81OTEyMDQ0Zjg2MmQ0MWZhYmExYWQzNmQ3MDk1YWU1YyA9IEwuY2lyY2xlTWFya2VyKAogICAgICAgICAgICAgICAgWzQwLjcxNTMzNzEzODU5OTUyLC03NC4wMDg4NDc2NjIxNzgyNV0sCiAgICAgICAgICAgICAgICB7CiAgImJ1YmJsaW5nTW91c2VFdmVudHMiOiB0cnVlLAogICJjb2xvciI6ICJibHVlIiwKICAiZGFzaEFycmF5IjogbnVsbCwKICAiZGFzaE9mZnNldCI6IG51bGwsCiAgImZpbGwiOiB0cnVlLAogICJmaWxsQ29sb3IiOiAiYmx1ZSIsCiAgImZpbGxPcGFjaXR5IjogMC42LAogICJmaWxsUnVsZSI6ICJldmVub2RkIiwKICAibGluZUNhcCI6ICJyb3VuZCIsCiAgImxpbmVKb2luIjogInJvdW5kIiwKICAib3BhY2l0eSI6IDEuMCwKICAicmFkaXVzIjogNSwKICAic3Ryb2tlIjogdHJ1ZSwKICAid2VpZ2h0IjogMwp9CiAgICAgICAgICAgICAgICApLmFkZFRvKG1hcF81YWRhMTVlNzY0ZDY0YzA0ODJmOTA0Yzg4ZjA4NDBhMyk7CiAgICAgICAgICAgIAogICAgCiAgICAgICAgICAgIHZhciBwb3B1cF8xYWYxOWU5ZTlhYzA0OTE2ODU5MjljOTVlMzc3MjlmMiA9IEwucG9wdXAoe21heFdpZHRoOiAnMzAwJ30pOwoKICAgICAgICAgICAgCiAgICAgICAgICAgICAgICB2YXIgaHRtbF9hMWU3Nzk4NzQ4ZjY0OWRlYjJkNGEyMTdmNzk1ODgxYiA9ICQoJzxkaXYgaWQ9Imh0bWxfYTFlNzc5ODc0OGY2NDlkZWIyZDRhMjE3Zjc5NTg4MWIiIHN0eWxlPSJ3aWR0aDogMTAwLjAlOyBoZWlnaHQ6IDEwMC4wJTsiPkl0YWxpYW4gUmVzdGF1cmFudDwvZGl2PicpWzBdOwogICAgICAgICAgICAgICAgcG9wdXBfMWFmMTllOWU5YWMwNDkxNjg1OTI5Yzk1ZTM3NzI5ZjIuc2V0Q29udGVudChodG1sX2ExZTc3OTg3NDhmNjQ5ZGViMmQ0YTIxN2Y3OTU4ODFiKTsKICAgICAgICAgICAgCgogICAgICAgICAgICBjaXJjbGVfbWFya2VyXzU5MTIwNDRmODYyZDQxZmFiYTFhZDM2ZDcwOTVhZTVjLmJpbmRQb3B1cChwb3B1cF8xYWYxOWU5ZTlhYzA0OTE2ODU5MjljOTVlMzc3MjlmMik7CgogICAgICAgICAgICAKICAgICAgICAKPC9zY3JpcHQ+ onload=\"this.contentDocument.open();this.contentDocument.write(atob(this.getAttribute('data-html')));this.contentDocument.close();\" allowfullscreen webkitallowfullscreen mozallowfullscreen></iframe></div></div>",
                        "text/plain": "<folium.folium.Map at 0x7fd040215a90>"
                    },
                    "execution_count": 11,
                    "metadata": {},
                    "output_type": "execute_result"
                }
            ],
            "source": "venues_map = folium.Map(location=[latitude, longitude], zoom_start=13) # generate map centred around the Conrad Hotel\n\n# add a red circle marker to represent the Conrad Hotel\nfolium.features.CircleMarker(\n    [latitude, longitude],\n    radius=10,\n    color='red',\n    popup='Conrad Hotel',\n    fill = True,\n    fill_color = 'red',\n    fill_opacity = 0.6\n).add_to(venues_map)\n\n# add the Italian restaurants as blue circle markers\nfor lat, lng, label in zip(dataframe_filtered.lat, dataframe_filtered.lng, dataframe_filtered.categories):\n    folium.features.CircleMarker(\n        [lat, lng],\n        radius=5,\n        color='blue',\n        popup=label,\n        fill = True,\n        fill_color='blue',\n        fill_opacity=0.6\n    ).add_to(venues_map)\n\n# display map\nvenues_map"
        },
        {
            "cell_type": "markdown",
            "metadata": {
                "button": false,
                "deletable": true,
                "new_sheet": false,
                "run_control": {
                    "read_only": false
                }
            },
            "source": "   "
        },
        {
            "cell_type": "markdown",
            "metadata": {
                "button": false,
                "deletable": true,
                "new_sheet": false,
                "run_control": {
                    "read_only": false
                }
            },
            "source": "<a id=\"item2\"></a>"
        },
        {
            "cell_type": "markdown",
            "metadata": {
                "button": false,
                "deletable": true,
                "new_sheet": false,
                "run_control": {
                    "read_only": false
                }
            },
            "source": "## 2. Explore a Given Venue\n> `https://api.foursquare.com/v2/venues/`**VENUE_ID**`?client_id=`**CLIENT_ID**`&client_secret=`**CLIENT_SECRET**`&v=`**VERSION**"
        },
        {
            "cell_type": "markdown",
            "metadata": {
                "button": false,
                "deletable": true,
                "new_sheet": false,
                "run_control": {
                    "read_only": false
                }
            },
            "source": "### A. Let's explore the closest Italian restaurant -- _Harry's Italian Pizza Bar_"
        },
        {
            "cell_type": "code",
            "execution_count": 12,
            "metadata": {
                "button": false,
                "collapsed": false,
                "deletable": true,
                "jupyter": {
                    "outputs_hidden": false
                },
                "new_sheet": false,
                "run_control": {
                    "read_only": false
                }
            },
            "outputs": [
                {
                    "data": {
                        "text/plain": "'https://api.foursquare.com/v2/venues/4fa862b3e4b0ebff2f749f06?client_id=K25YJQ3E34V2MXHR20RADQP2RRXKMG3MFBH0EOQXDWPTWIEF&client_secret=IXN45POIIHEDSELYWOD5CYCL4YIHCBR0DVVJYJ4R5IHXOPUU&v=20180604'"
                    },
                    "execution_count": 12,
                    "metadata": {},
                    "output_type": "execute_result"
                }
            ],
            "source": "venue_id = '4fa862b3e4b0ebff2f749f06' # ID of Harry's Italian Pizza Bar\nurl = 'https://api.foursquare.com/v2/venues/{}?client_id={}&client_secret={}&v={}'.format(venue_id, CLIENT_ID, CLIENT_SECRET, VERSION)\nurl"
        },
        {
            "cell_type": "markdown",
            "metadata": {
                "button": false,
                "deletable": true,
                "new_sheet": false,
                "run_control": {
                    "read_only": false
                }
            },
            "source": "#### Send GET request for result"
        },
        {
            "cell_type": "code",
            "execution_count": 13,
            "metadata": {
                "button": false,
                "collapsed": false,
                "deletable": true,
                "jupyter": {
                    "outputs_hidden": false
                },
                "new_sheet": false,
                "run_control": {
                    "read_only": false
                }
            },
            "outputs": [
                {
                    "name": "stdout",
                    "output_type": "stream",
                    "text": "dict_keys(['id', 'name', 'contact', 'location', 'canonicalUrl', 'categories', 'verified', 'stats', 'url', 'price', 'hasMenu', 'likes', 'dislike', 'ok', 'rating', 'ratingColor', 'ratingSignals', 'delivery', 'menu', 'allowMenuUrlEdit', 'beenHere', 'specials', 'photos', 'reasons', 'hereNow', 'createdAt', 'tips', 'shortUrl', 'timeZone', 'listed', 'hours', 'popular', 'seasonalHours', 'defaultHours', 'pageUpdates', 'inbox', 'attributes', 'bestPhoto', 'colors'])\n"
                },
                {
                    "data": {
                        "text/plain": "{'id': '4fa862b3e4b0ebff2f749f06',\n 'name': \"Harry's Italian Pizza Bar\",\n 'contact': {'phone': '2126081007', 'formattedPhone': '(212) 608-1007'},\n 'location': {'address': '225 Murray St',\n  'lat': 40.71521779064671,\n  'lng': -74.01473940209351,\n  'labeledLatLngs': [{'label': 'display',\n    'lat': 40.71521779064671,\n    'lng': -74.01473940209351},\n   {'label': '?', 'lat': 40.715361, 'lng': -74.014975}],\n  'postalCode': '10282',\n  'cc': 'US',\n  'city': 'New York',\n  'state': 'NY',\n  'country': 'United States',\n  'formattedAddress': ['225 Murray St',\n   'New York, NY 10282',\n   'United States']},\n 'canonicalUrl': 'https://foursquare.com/v/harrys-italian-pizza-bar/4fa862b3e4b0ebff2f749f06',\n 'categories': [{'id': '4bf58dd8d48988d1ca941735',\n   'name': 'Pizza Place',\n   'pluralName': 'Pizza Places',\n   'shortName': 'Pizza',\n   'icon': {'prefix': 'https://ss3.4sqi.net/img/categories_v2/food/pizza_',\n    'suffix': '.png'},\n   'primary': True},\n  {'id': '4bf58dd8d48988d110941735',\n   'name': 'Italian Restaurant',\n   'pluralName': 'Italian Restaurants',\n   'shortName': 'Italian',\n   'icon': {'prefix': 'https://ss3.4sqi.net/img/categories_v2/food/italian_',\n    'suffix': '.png'}}],\n 'verified': False,\n 'stats': {'tipCount': 57},\n 'url': 'http://harrysitalian.com',\n 'price': {'tier': 2, 'message': 'Moderate', 'currency': '$'},\n 'hasMenu': True,\n 'likes': {'count': 120,\n  'groups': [{'type': 'others', 'count': 120, 'items': []}],\n  'summary': '120 Likes'},\n 'dislike': False,\n 'ok': False,\n 'rating': 6.4,\n 'ratingColor': 'FFC800',\n 'ratingSignals': 212,\n 'delivery': {'id': '294544',\n  'url': 'https://www.seamless.com/menu/harrys-italian-pizza-bar-225-murray-st-new-york/294544?affiliate=1131&utm_source=foursquare-affiliate-network&utm_medium=affiliate&utm_campaign=1131&utm_content=294544',\n  'provider': {'name': 'seamless',\n   'icon': {'prefix': 'https://fastly.4sqi.net/img/general/cap/',\n    'sizes': [40, 50],\n    'name': '/delivery_provider_seamless_20180129.png'}}},\n 'menu': {'type': 'Menu',\n  'label': 'Menu',\n  'anchor': 'View Menu',\n  'url': 'https://foursquare.com/v/harrys-italian-pizza-bar/4fa862b3e4b0ebff2f749f06/menu',\n  'mobileUrl': 'https://foursquare.com/v/4fa862b3e4b0ebff2f749f06/device_menu'},\n 'allowMenuUrlEdit': True,\n 'beenHere': {'count': 0,\n  'unconfirmedCount': 0,\n  'marked': False,\n  'lastCheckinExpiredAt': 0},\n 'specials': {'count': 0, 'items': []},\n 'photos': {'count': 146,\n  'groups': [{'type': 'venue',\n    'name': 'Venue photos',\n    'count': 146,\n    'items': [{'id': '4fad980de4b091b4626c3633',\n      'createdAt': 1336776717,\n      'source': {'name': 'Foursquare for Android',\n       'url': 'https://foursquare.com/download/#/android'},\n      'prefix': 'https://fastly.4sqi.net/img/general/',\n      'suffix': '/ya1iQFI7pLjuIJp1PGDKlrZS3OJdHCF7tpILMmjv_2w.jpg',\n      'width': 480,\n      'height': 640,\n      'user': {'id': '13676709',\n       'firstName': 'Leony',\n       'lastName': 'N',\n       'photo': {'prefix': 'https://fastly.4sqi.net/img/user/',\n        'suffix': '/T0ANFNGNMCHUDEUE.jpg'}},\n      'visibility': 'public'},\n     {'id': '503139a5e4b021f7a5e9952a',\n      'createdAt': 1345403301,\n      'source': {'name': 'Foursquare for iOS',\n       'url': 'https://foursquare.com/download/#/iphone'},\n      'prefix': 'https://fastly.4sqi.net/img/general/',\n      'suffix': '/ox3MATx28ULVNhMemzwMx5ivrRPh0aIbowxREaHWzKA.jpg',\n      'width': 720,\n      'height': 540,\n      'user': {'id': '4434246',\n       'firstName': 'Gregory',\n       'lastName': 'L',\n       'photo': {'prefix': 'https://fastly.4sqi.net/img/user/',\n        'suffix': '/4XA1N04BRCPULL2M.jpg'}},\n      'visibility': 'public'}]}]},\n 'reasons': {'count': 1,\n  'items': [{'summary': 'Lots of people like this place',\n    'type': 'general',\n    'reasonName': 'rawLikesReason'}]},\n 'hereNow': {'count': 0, 'summary': 'Nobody here', 'groups': []},\n 'createdAt': 1336435379,\n 'tips': {'count': 57,\n  'groups': [{'type': 'others',\n    'name': 'All tips',\n    'count': 57,\n    'items': [{'id': '53d27909498e0523841340b6',\n      'createdAt': 1406302473,\n      'text': \"Harry's Italian Pizza bar is known for it's amazing pizza, but did you know that the brunches here are amazing too? Try the Nutella French toast and we know you'll be sold.\",\n      'type': 'user',\n      'canonicalUrl': 'https://foursquare.com/item/53d27909498e0523841340b6',\n      'lang': 'en',\n      'likes': {'count': 4,\n       'groups': [{'type': 'others',\n         'count': 4,\n         'items': [{'id': '369426',\n           'firstName': 'P.',\n           'lastName': 'M',\n           'photo': {'prefix': 'https://fastly.4sqi.net/img/user/',\n            'suffix': '/JPQYUWJKUT0H2OO4.jpg'}},\n          {'id': '87587879',\n           'firstName': 'Diane',\n           'lastName': 'D',\n           'photo': {'prefix': 'https://fastly.4sqi.net/img/user/',\n            'suffix': '/87587879-ESLRSZLQ2CBE2P4W.jpg'}},\n          {'id': '87591341',\n           'firstName': 'Tim',\n           'lastName': 'S',\n           'photo': {'prefix': 'https://fastly.4sqi.net/img/user/',\n            'suffix': '/-Z4YK4VKE0JSVXIY1.jpg'}},\n          {'id': '87473404',\n           'firstName': 'TenantKing.com',\n           'photo': {'prefix': 'https://fastly.4sqi.net/img/user/',\n            'suffix': '/87473404-HI5DTBTK0HX401CA.png'},\n           'type': 'page'}]}],\n       'summary': '4 likes'},\n      'logView': True,\n      'agreeCount': 4,\n      'disagreeCount': 0,\n      'todo': {'count': 0},\n      'user': {'id': '87473404',\n       'firstName': 'TenantKing.com',\n       'photo': {'prefix': 'https://fastly.4sqi.net/img/user/',\n        'suffix': '/87473404-HI5DTBTK0HX401CA.png'},\n       'type': 'page'}},\n     {'id': '53962e98498ecd43845cc813',\n      'createdAt': 1402351256,\n      'text': \"I'm not sure if this place is one of the famous pizzerias in NYC but I loved their pizza.\",\n      'type': 'user',\n      'canonicalUrl': 'https://foursquare.com/item/53962e98498ecd43845cc813',\n      'photo': {'id': '53962e9c498e53dbbf59b28e',\n       'createdAt': 1402351260,\n       'source': {'name': 'Foursquare for iOS',\n        'url': 'https://foursquare.com/download/#/iphone'},\n       'prefix': 'https://fastly.4sqi.net/img/general/',\n       'suffix': '/7012699_DCcCtW8oRbhNv62E68gxtLnWn7IgRhapBr8vdnIQjYk.jpg',\n       'width': 720,\n       'height': 720,\n       'visibility': 'public'},\n      'photourl': 'https://fastly.4sqi.net/img/general/original/7012699_DCcCtW8oRbhNv62E68gxtLnWn7IgRhapBr8vdnIQjYk.jpg',\n      'lang': 'en',\n      'likes': {'count': 2,\n       'groups': [{'type': 'others',\n         'count': 2,\n         'items': [{'id': '7012699',\n           'firstName': 'Hani',\n           'lastName': 'A',\n           'photo': {'prefix': 'https://fastly.4sqi.net/img/user/',\n            'suffix': '/7012699_vCXraeWA_FdHlUETPVuDaElNtnp76a2i4JWAyD1JVMMiqitsCujXhqKtV2MQYPdfAVMBI7BRi.jpg'}},\n          {'id': '61939758',\n           'firstName': 'Leena',\n           'lastName': 'R',\n           'photo': {'prefix': 'https://fastly.4sqi.net/img/user/',\n            'suffix': '/61939758_KOpR9NFm_rNQPhjDng4f_qr3PU69nNGFgLnjwS-dM97MnkvrD7h1U2tOojRCPpFLq_B9KVfbh.jpg'}}]}],\n       'summary': '2 likes'},\n      'logView': True,\n      'agreeCount': 2,\n      'disagreeCount': 0,\n      'todo': {'count': 0},\n      'user': {'id': '7012699',\n       'firstName': 'Hani',\n       'lastName': 'A',\n       'photo': {'prefix': 'https://fastly.4sqi.net/img/user/',\n        'suffix': '/7012699_vCXraeWA_FdHlUETPVuDaElNtnp76a2i4JWAyD1JVMMiqitsCujXhqKtV2MQYPdfAVMBI7BRi.jpg'}},\n      'authorInteractionType': 'liked'}]}]},\n 'shortUrl': 'http://4sq.com/JNblHV',\n 'timeZone': 'America/New_York',\n 'listed': {'count': 54,\n  'groups': [{'type': 'others',\n    'name': 'Lists from other people',\n    'count': 54,\n    'items': [{'id': '4fa32fd0e4b04193744746b1',\n      'name': 'Manhattan Haunts',\n      'description': '',\n      'type': 'others',\n      'user': {'id': '24592223',\n       'firstName': 'Becca',\n       'lastName': 'M',\n       'photo': {'prefix': 'https://fastly.4sqi.net/img/user/',\n        'suffix': '/24592223-RAW2UYM0GIB1U40K.jpg'}},\n      'editable': False,\n      'public': True,\n      'collaborative': False,\n      'url': '/becca_mcarthur/list/manhattan-haunts',\n      'canonicalUrl': 'https://foursquare.com/becca_mcarthur/list/manhattan-haunts',\n      'createdAt': 1336094672,\n      'updatedAt': 1380845377,\n      'photo': {'id': '4e8cc9461081e3b3544e12e5',\n       'createdAt': 1317849414,\n       'prefix': 'https://fastly.4sqi.net/img/general/',\n       'suffix': '/0NLVU2HC1JF4DXIMKWUFW3QBUT31DC11EFNYYHMJG3NDWAPS.jpg',\n       'width': 492,\n       'height': 330,\n       'user': {'id': '742542',\n        'firstName': 'Time Out New York',\n        'photo': {'prefix': 'https://fastly.4sqi.net/img/user/',\n         'suffix': '/XXHKCBSQHBORZNSR.jpg'},\n        'type': 'page'},\n       'visibility': 'public'},\n      'followers': {'count': 22},\n      'listItems': {'count': 187,\n       'items': [{'id': 'v4fa862b3e4b0ebff2f749f06',\n         'createdAt': 1342934485}]}},\n     {'id': '4fae817be4b085f6b2a74d19',\n      'name': 'USA NYC MAN FiDi',\n      'description': 'Where to go for decent eats in the restaurant wasteland of Downtown NYC aka FiDi, along with Tribeca & Battery Park City.',\n      'type': 'others',\n      'user': {'id': '12113441',\n       'firstName': 'Kino',\n       'photo': {'prefix': 'https://fastly.4sqi.net/img/user/',\n        'suffix': '/12113441-K5HTHFLU2MUCM0CM.jpg'}},\n      'editable': False,\n      'public': True,\n      'collaborative': False,\n      'url': '/kinosfault/list/usa-nyc-man-fidi',\n      'canonicalUrl': 'https://foursquare.com/kinosfault/list/usa-nyc-man-fidi',\n      'createdAt': 1336836475,\n      'updatedAt': 1556754919,\n      'photo': {'id': '55984992498e13ba75e353bb',\n       'createdAt': 1436043666,\n       'prefix': 'https://fastly.4sqi.net/img/general/',\n       'suffix': '/12113441_iOa6Uh-Xi8bhj2-gpzkkw8MKiAIs7RmOcz_RM7m8ink.jpg',\n       'width': 540,\n       'height': 960,\n       'user': {'id': '12113441',\n        'firstName': 'Kino',\n        'photo': {'prefix': 'https://fastly.4sqi.net/img/user/',\n         'suffix': '/12113441-K5HTHFLU2MUCM0CM.jpg'}},\n       'visibility': 'public'},\n      'followers': {'count': 20},\n      'listItems': {'count': 273,\n       'items': [{'id': 'v4fa862b3e4b0ebff2f749f06',\n         'createdAt': 1373909433}]}},\n     {'id': '4fddeff0e4b0e078037ac0d3',\n      'name': 'NYC Resturants',\n      'description': '',\n      'type': 'others',\n      'user': {'id': '21563126',\n       'firstName': 'Richard',\n       'lastName': 'R',\n       'photo': {'prefix': 'https://fastly.4sqi.net/img/user/',\n        'suffix': '/21563126_v05J1KPw_SVj6Ehq9g8B9jeAGjFUMsU5QGl-NZ8inUQ7pKQm5bKplW37EmR7jS2A7GYPBBAtl.jpg'}},\n      'editable': False,\n      'public': True,\n      'collaborative': True,\n      'url': '/rickr7/list/nyc-resturants',\n      'canonicalUrl': 'https://foursquare.com/rickr7/list/nyc-resturants',\n      'createdAt': 1339944944,\n      'updatedAt': 1582232663,\n      'photo': {'id': '5072dd13e4b09145cdf782d1',\n       'createdAt': 1349704979,\n       'prefix': 'https://fastly.4sqi.net/img/general/',\n       'suffix': '/208205_fGh2OuAZ9qJ4agbAA5wMVNOSIm9kNUlRtNwj1N-adqg.jpg',\n       'width': 800,\n       'height': 800,\n       'user': {'id': '208205',\n        'firstName': 'Thalia',\n        'lastName': 'K',\n        'photo': {'prefix': 'https://fastly.4sqi.net/img/user/',\n         'suffix': '/SNOOLCAW2AG04ZKD.jpg'}},\n       'visibility': 'public'},\n      'followers': {'count': 12},\n      'listItems': {'count': 194,\n       'items': [{'id': 'v4fa862b3e4b0ebff2f749f06',\n         'createdAt': 1581655865}]}},\n     {'id': '5266c68a498e7c667807fe09',\n      'name': 'Foodie Love in NY - 02',\n      'description': '',\n      'type': 'others',\n      'user': {'id': '547977',\n       'firstName': 'WiLL',\n       'photo': {'prefix': 'https://fastly.4sqi.net/img/user/',\n        'suffix': '/-Q5NYGDMFDMOITQRR.jpg'}},\n      'editable': False,\n      'public': True,\n      'collaborative': False,\n      'url': '/sweetiewill/list/foodie-love-in-ny--02',\n      'canonicalUrl': 'https://foursquare.com/sweetiewill/list/foodie-love-in-ny--02',\n      'createdAt': 1382467210,\n      'updatedAt': 1391995585,\n      'followers': {'count': 7},\n      'listItems': {'count': 200,\n       'items': [{'id': 'v4fa862b3e4b0ebff2f749f06',\n         'createdAt': 1386809936}]}}]}]},\n 'hours': {'status': 'Open until Midnight',\n  'richStatus': {'entities': [], 'text': 'Open until Midnight'},\n  'isOpen': True,\n  'isLocalHoliday': False,\n  'dayData': [],\n  'timeframes': [{'days': 'Mon\u2013Wed, Sun',\n    'open': [{'renderedTime': '11:30 AM\u201311:00 PM'}],\n    'segments': []},\n   {'days': 'Thu\u2013Sat',\n    'includesToday': True,\n    'open': [{'renderedTime': '11:30 AM\u2013Midnight'}],\n    'segments': []}]},\n 'popular': {'isOpen': False,\n  'isLocalHoliday': False,\n  'timeframes': [{'days': 'Today',\n    'includesToday': True,\n    'open': [{'renderedTime': 'Noon\u20132:00 PM'},\n     {'renderedTime': '5:00 PM\u201310:00 PM'}],\n    'segments': []},\n   {'days': 'Fri',\n    'open': [{'renderedTime': 'Noon\u20133:00 PM'},\n     {'renderedTime': '5:00 PM\u201311:00 PM'}],\n    'segments': []},\n   {'days': 'Sat',\n    'open': [{'renderedTime': 'Noon\u201311:00 PM'}],\n    'segments': []},\n   {'days': 'Sun',\n    'open': [{'renderedTime': 'Noon\u20133:00 PM'},\n     {'renderedTime': '5:00 PM\u20138:00 PM'}],\n    'segments': []},\n   {'days': 'Mon',\n    'open': [{'renderedTime': 'Noon\u20132:00 PM'},\n     {'renderedTime': '6:00 PM\u20138:00 PM'}],\n    'segments': []},\n   {'days': 'Tue\u2013Wed',\n    'open': [{'renderedTime': 'Noon\u20132:00 PM'},\n     {'renderedTime': '5:00 PM\u201310:00 PM'}],\n    'segments': []}]},\n 'seasonalHours': [],\n 'defaultHours': {'status': 'Open until Midnight',\n  'richStatus': {'entities': [], 'text': 'Open until Midnight'},\n  'isOpen': True,\n  'isLocalHoliday': False,\n  'dayData': [],\n  'timeframes': [{'days': 'Mon\u2013Wed, Sun',\n    'open': [{'renderedTime': '11:30 AM\u201311:00 PM'}],\n    'segments': []},\n   {'days': 'Thu\u2013Sat',\n    'includesToday': True,\n    'open': [{'renderedTime': '11:30 AM\u2013Midnight'}],\n    'segments': []}]},\n 'pageUpdates': {'count': 0, 'items': []},\n 'inbox': {'count': 0, 'items': []},\n 'attributes': {'groups': [{'type': 'price',\n    'name': 'Price',\n    'summary': '$$',\n    'count': 1,\n    'items': [{'displayName': 'Price', 'displayValue': '$$', 'priceTier': 2}]},\n   {'type': 'payments',\n    'name': 'Credit Cards',\n    'summary': 'Credit Cards',\n    'count': 7,\n    'items': [{'displayName': 'Credit Cards',\n      'displayValue': 'Yes (incl. American Express)'}]},\n   {'type': 'outdoorSeating',\n    'name': 'Outdoor Seating',\n    'summary': 'Outdoor Seating',\n    'count': 1,\n    'items': [{'displayName': 'Outdoor Seating', 'displayValue': 'Yes'}]},\n   {'type': 'serves',\n    'name': 'Menus',\n    'summary': 'Happy Hour, Brunch & more',\n    'count': 8,\n    'items': [{'displayName': 'Brunch', 'displayValue': 'Brunch'},\n     {'displayName': 'Lunch', 'displayValue': 'Lunch'},\n     {'displayName': 'Dinner', 'displayValue': 'Dinner'},\n     {'displayName': 'Happy Hour', 'displayValue': 'Happy Hour'}]},\n   {'type': 'drinks',\n    'name': 'Drinks',\n    'summary': 'Beer, Wine & Cocktails',\n    'count': 5,\n    'items': [{'displayName': 'Beer', 'displayValue': 'Beer'},\n     {'displayName': 'Wine', 'displayValue': 'Wine'},\n     {'displayName': 'Cocktails', 'displayValue': 'Cocktails'}]},\n   {'type': 'diningOptions',\n    'name': 'Dining Options',\n    'summary': 'Delivery',\n    'count': 5,\n    'items': [{'displayName': 'Delivery', 'displayValue': 'Delivery'}]}]},\n 'bestPhoto': {'id': '4fad980de4b091b4626c3633',\n  'createdAt': 1336776717,\n  'source': {'name': 'Foursquare for Android',\n   'url': 'https://foursquare.com/download/#/android'},\n  'prefix': 'https://fastly.4sqi.net/img/general/',\n  'suffix': '/ya1iQFI7pLjuIJp1PGDKlrZS3OJdHCF7tpILMmjv_2w.jpg',\n  'width': 480,\n  'height': 640,\n  'visibility': 'public'},\n 'colors': {'highlightColor': {'photoId': '4fad980de4b091b4626c3633',\n   'value': -13619152},\n  'highlightTextColor': {'photoId': '4fad980de4b091b4626c3633', 'value': -1},\n  'algoVersion': 3}}"
                    },
                    "execution_count": 13,
                    "metadata": {},
                    "output_type": "execute_result"
                }
            ],
            "source": "result = requests.get(url).json()\nprint(result['response']['venue'].keys())\nresult['response']['venue']"
        },
        {
            "cell_type": "markdown",
            "metadata": {
                "button": false,
                "deletable": true,
                "new_sheet": false,
                "run_control": {
                    "read_only": false
                }
            },
            "source": "### B. Get the venue's overall rating"
        },
        {
            "cell_type": "code",
            "execution_count": 14,
            "metadata": {
                "button": false,
                "collapsed": false,
                "deletable": true,
                "jupyter": {
                    "outputs_hidden": false
                },
                "new_sheet": false,
                "run_control": {
                    "read_only": false
                }
            },
            "outputs": [
                {
                    "name": "stdout",
                    "output_type": "stream",
                    "text": "6.4\n"
                }
            ],
            "source": "try:\n    print(result['response']['venue']['rating'])\nexcept:\n    print('This venue has not been rated yet.')"
        },
        {
            "cell_type": "markdown",
            "metadata": {
                "button": false,
                "deletable": true,
                "new_sheet": false,
                "run_control": {
                    "read_only": false
                }
            },
            "source": "That is not a very good rating. Let's check the rating of the second closest Italian restaurant."
        },
        {
            "cell_type": "code",
            "execution_count": 15,
            "metadata": {
                "button": false,
                "collapsed": false,
                "deletable": true,
                "jupyter": {
                    "outputs_hidden": false
                },
                "new_sheet": false,
                "run_control": {
                    "read_only": false
                }
            },
            "outputs": [
                {
                    "name": "stdout",
                    "output_type": "stream",
                    "text": "This venue has not been rated yet.\n"
                }
            ],
            "source": "venue_id = '4f3232e219836c91c7bfde94' # ID of Conca Cucina Italian Restaurant\nurl = 'https://api.foursquare.com/v2/venues/{}?client_id={}&client_secret={}&v={}'.format(venue_id, CLIENT_ID, CLIENT_SECRET, VERSION)\n\nresult = requests.get(url).json()\ntry:\n    print(result['response']['venue']['rating'])\nexcept:\n    print('This venue has not been rated yet.')"
        },
        {
            "cell_type": "markdown",
            "metadata": {
                "button": false,
                "deletable": true,
                "new_sheet": false,
                "run_control": {
                    "read_only": false
                }
            },
            "source": "Since this restaurant has no ratings, let's check the third restaurant."
        },
        {
            "cell_type": "code",
            "execution_count": 16,
            "metadata": {
                "button": false,
                "collapsed": false,
                "deletable": true,
                "jupyter": {
                    "outputs_hidden": false
                },
                "new_sheet": false,
                "run_control": {
                    "read_only": false
                }
            },
            "outputs": [
                {
                    "name": "stdout",
                    "output_type": "stream",
                    "text": "7.4\n"
                }
            ],
            "source": "venue_id = '3fd66200f964a520f4e41ee3' # ID of Ecco\nurl = 'https://api.foursquare.com/v2/venues/{}?client_id={}&client_secret={}&v={}'.format(venue_id, CLIENT_ID, CLIENT_SECRET, VERSION)\n\nresult = requests.get(url).json()\ntry:\n    print(result['response']['venue']['rating'])\nexcept:\n    print('This venue has not been rated yet.')"
        },
        {
            "cell_type": "markdown",
            "metadata": {
                "button": false,
                "deletable": true,
                "new_sheet": false,
                "run_control": {
                    "read_only": false
                }
            },
            "source": "Since this restaurant has a slightly better rating, let's explore it further."
        },
        {
            "cell_type": "markdown",
            "metadata": {
                "button": false,
                "deletable": true,
                "new_sheet": false,
                "run_control": {
                    "read_only": false
                }
            },
            "source": "### C. Get the number of tips"
        },
        {
            "cell_type": "code",
            "execution_count": 17,
            "metadata": {
                "button": false,
                "collapsed": false,
                "deletable": true,
                "jupyter": {
                    "outputs_hidden": false
                },
                "new_sheet": false,
                "run_control": {
                    "read_only": false
                }
            },
            "outputs": [
                {
                    "data": {
                        "text/plain": "19"
                    },
                    "execution_count": 17,
                    "metadata": {},
                    "output_type": "execute_result"
                }
            ],
            "source": "result['response']['venue']['tips']['count']"
        },
        {
            "cell_type": "markdown",
            "metadata": {
                "button": false,
                "deletable": true,
                "new_sheet": false,
                "run_control": {
                    "read_only": false
                }
            },
            "source": "### D. Get the venue's tips\n> `https://api.foursquare.com/v2/venues/`**VENUE_ID**`/tips?client_id=`**CLIENT_ID**`&client_secret=`**CLIENT_SECRET**`&v=`**VERSION**`&limit=`**LIMIT**"
        },
        {
            "cell_type": "markdown",
            "metadata": {
                "button": false,
                "deletable": true,
                "new_sheet": false,
                "run_control": {
                    "read_only": false
                }
            },
            "source": "#### Create URL and send GET request. Make sure to set limit to get all tips"
        },
        {
            "cell_type": "code",
            "execution_count": 18,
            "metadata": {
                "button": false,
                "collapsed": false,
                "deletable": true,
                "jupyter": {
                    "outputs_hidden": false
                },
                "new_sheet": false,
                "run_control": {
                    "read_only": false
                }
            },
            "outputs": [
                {
                    "data": {
                        "text/plain": "{'meta': {'code': 200, 'requestId': '5ea2549e0f596800267dd74f'},\n 'response': {'tips': {'count': 19,\n   'items': [{'id': '5ab1cb46c9a517174651d3fe',\n     'createdAt': 1521601350,\n     'text': 'A+ Italian food! Trust me on this: my mom\u2019s side of the family is 100% Italian. I was born and bred to know good pasta when I see it, and Ecco is one of my all-time NYC favorites',\n     'type': 'user',\n     'canonicalUrl': 'https://foursquare.com/item/5ab1cb46c9a517174651d3fe',\n     'lang': 'en',\n     'likes': {'count': 0, 'groups': []},\n     'logView': True,\n     'agreeCount': 4,\n     'disagreeCount': 0,\n     'todo': {'count': 0},\n     'user': {'id': '484542633',\n      'firstName': 'Nick',\n      'lastName': 'E',\n      'photo': {'prefix': 'https://fastly.4sqi.net/img/user/',\n       'suffix': '/484542633_unymNUmw_FdPs3GjXHujmHcYnN4hf8kEPADlOZuIrdcdm97VX3tFqL7fFNMNA_8Gl9NlU1GYg.jpg'}},\n     'authorInteractionType': 'liked'},\n    {'id': '5cb7051b180b910039f90625',\n     'createdAt': 1555498267,\n     'text': 'Excellent food!! Osso bucco special one of the best I ever had! Lobster ravioli with porcini mushroomhomemade Italian cheesecake, tiramisu and napoleons...calamari fra diavolo was saut\u00e9ed not fried',\n     'type': 'user',\n     'canonicalUrl': 'https://foursquare.com/item/5cb7051b180b910039f90625',\n     'lang': 'en',\n     'likes': {'count': 0, 'groups': []},\n     'logView': True,\n     'agreeCount': 1,\n     'disagreeCount': 0,\n     'todo': {'count': 0},\n     'user': {'id': '446298346',\n      'firstName': 'Lynn',\n      'lastName': 'B',\n      'photo': {'prefix': 'https://fastly.4sqi.net/img/user/',\n       'suffix': '/446298346_fdtqugvP_1WztOWXXDQX92HwIrjzLb6nMQsYiCVlkiTp58UGSFVBwQ0-5G5AdqxlEWphYWTnK.jpg'}},\n     'authorInteractionType': 'liked'}]}}}"
                    },
                    "execution_count": 18,
                    "metadata": {},
                    "output_type": "execute_result"
                }
            ],
            "source": "## Ecco Tips\nlimit = 15 # set limit to be greater than or equal to the total number of tips\nurl = 'https://api.foursquare.com/v2/venues/{}/tips?client_id={}&client_secret={}&v={}&limit={}'.format(venue_id, CLIENT_ID, CLIENT_SECRET, VERSION, limit)\n\nresults = requests.get(url).json()\nresults"
        },
        {
            "cell_type": "markdown",
            "metadata": {
                "button": false,
                "deletable": true,
                "new_sheet": false,
                "run_control": {
                    "read_only": false
                }
            },
            "source": "#### Get tips and list of associated features"
        },
        {
            "cell_type": "code",
            "execution_count": 19,
            "metadata": {
                "button": false,
                "collapsed": false,
                "deletable": true,
                "jupyter": {
                    "outputs_hidden": false
                },
                "new_sheet": false,
                "run_control": {
                    "read_only": false
                }
            },
            "outputs": [
                {
                    "data": {
                        "text/plain": "dict_keys(['id', 'createdAt', 'text', 'type', 'canonicalUrl', 'lang', 'likes', 'logView', 'agreeCount', 'disagreeCount', 'todo', 'user', 'authorInteractionType'])"
                    },
                    "execution_count": 19,
                    "metadata": {},
                    "output_type": "execute_result"
                }
            ],
            "source": "tips = results['response']['tips']['items']\n\ntip = results['response']['tips']['items'][0]\ntip.keys()"
        },
        {
            "cell_type": "markdown",
            "metadata": {
                "button": false,
                "deletable": true,
                "new_sheet": false,
                "run_control": {
                    "read_only": false
                }
            },
            "source": "#### Format column width and display all tips"
        },
        {
            "cell_type": "code",
            "execution_count": 31,
            "metadata": {
                "button": false,
                "collapsed": false,
                "deletable": true,
                "jupyter": {
                    "outputs_hidden": false
                },
                "new_sheet": false,
                "run_control": {
                    "read_only": false
                }
            },
            "outputs": [
                {
                    "name": "stderr",
                    "output_type": "stream",
                    "text": "/home/jupyterlab/conda/envs/python/lib/python3.6/site-packages/ipykernel_launcher.py:4: FutureWarning: pandas.io.json.json_normalize is deprecated, use pandas.json_normalize instead\n  after removing the cwd from sys.path.\n"
                },
                {
                    "data": {
                        "text/html": "<div>\n<style scoped>\n    .dataframe tbody tr th:only-of-type {\n        vertical-align: middle;\n    }\n\n    .dataframe tbody tr th {\n        vertical-align: top;\n    }\n\n    .dataframe thead th {\n        text-align: right;\n    }\n</style>\n<table border=\"1\" class=\"dataframe\">\n  <thead>\n    <tr style=\"text-align: right;\">\n      <th></th>\n      <th>text</th>\n      <th>agreeCount</th>\n      <th>disagreeCount</th>\n      <th>id</th>\n      <th>user.firstName</th>\n      <th>user.lastName</th>\n      <th>user.id</th>\n    </tr>\n  </thead>\n  <tbody>\n    <tr>\n      <th>0</th>\n      <td>A+ Italian food! Trust me on this: my mom\u2019s side of the family is 100% Italian. I was born and bred to know good pasta when I see it, and Ecco is one of my all-time NYC favorites</td>\n      <td>4</td>\n      <td>0</td>\n      <td>5ab1cb46c9a517174651d3fe</td>\n      <td>Nick</td>\n      <td>E</td>\n      <td>484542633</td>\n    </tr>\n    <tr>\n      <th>1</th>\n      <td>Excellent food!! Osso bucco special one of the best I ever had! Lobster ravioli with porcini mushroomhomemade Italian cheesecake, tiramisu and napoleons...calamari fra diavolo was saut\u00e9ed not fried</td>\n      <td>1</td>\n      <td>0</td>\n      <td>5cb7051b180b910039f90625</td>\n      <td>Lynn</td>\n      <td>B</td>\n      <td>446298346</td>\n    </tr>\n  </tbody>\n</table>\n</div>",
                        "text/plain": "                                                                                                                                                                                                    text  \\\n0                     A+ Italian food! Trust me on this: my mom\u2019s side of the family is 100% Italian. I was born and bred to know good pasta when I see it, and Ecco is one of my all-time NYC favorites   \n1  Excellent food!! Osso bucco special one of the best I ever had! Lobster ravioli with porcini mushroomhomemade Italian cheesecake, tiramisu and napoleons...calamari fra diavolo was saut\u00e9ed not fried   \n\n   agreeCount  disagreeCount                        id user.firstName  \\\n0           4              0  5ab1cb46c9a517174651d3fe           Nick   \n1           1              0  5cb7051b180b910039f90625           Lynn   \n\n  user.lastName    user.id  \n0             E  484542633  \n1             B  446298346  "
                    },
                    "execution_count": 31,
                    "metadata": {},
                    "output_type": "execute_result"
                }
            ],
            "source": "# FutureWarning: Passing a negative integer is deprecated in version 1.0 and will not be supported in future version. Instead, use None to not limit the column width.\npd.set_option('display.max_colwidth', None)\n\ntips_df = json_normalize(tips) # json normalize tips\n\n# columns to keep\n# 'user.gender' column is missing from foursquare json \n# filtered_columns = ['text', 'agreeCount', 'disagreeCount', 'id', 'user.firstName', 'user.lastName', 'user.gender', 'user.id']\nfiltered_columns = ['text', 'agreeCount', 'disagreeCount', 'id', 'user.firstName', 'user.lastName', 'user.id']\n\n# Passing list-likes to .loc or [] with any missing labels is no longer supported, \n# see https://pandas.pydata.org/pandas-docs/stable/user_guide/indexing.html#deprecate-loc-reindex-listlike\n# tips_filtered = tips_df.loc[:, filtered_columns]\ntips_filtered = tips_df.reindex(columns=filtered_columns)\n\n# display tips\ntips_filtered"
        },
        {
            "cell_type": "markdown",
            "metadata": {
                "button": false,
                "deletable": true,
                "new_sheet": false,
                "run_control": {
                    "read_only": false
                }
            },
            "source": "Now remember that because we are using a personal developer account, then we can access only 2 of the restaurant's tips, instead of all 15 tips."
        },
        {
            "cell_type": "markdown",
            "metadata": {
                "button": false,
                "deletable": true,
                "new_sheet": false,
                "run_control": {
                    "read_only": false
                }
            },
            "source": "   "
        },
        {
            "cell_type": "markdown",
            "metadata": {
                "button": false,
                "deletable": true,
                "new_sheet": false,
                "run_control": {
                    "read_only": false
                }
            },
            "source": "<a id=\"item3\"></a>"
        },
        {
            "cell_type": "markdown",
            "metadata": {
                "button": false,
                "deletable": true,
                "new_sheet": false,
                "run_control": {
                    "read_only": false
                }
            },
            "source": "## 3. Search a Foursquare User\n> `https://api.foursquare.com/v2/users/`**USER_ID**`?client_id=`**CLIENT_ID**`&client_secret=`**CLIENT_SECRET**`&v=`**VERSION**"
        },
        {
            "cell_type": "markdown",
            "metadata": {
                "button": false,
                "deletable": true,
                "new_sheet": false,
                "run_control": {
                    "read_only": false
                }
            },
            "source": "### Define URL, send GET request and display features associated with user"
        },
        {
            "cell_type": "code",
            "execution_count": 32,
            "metadata": {
                "button": false,
                "collapsed": false,
                "deletable": true,
                "jupyter": {
                    "outputs_hidden": false
                },
                "new_sheet": false,
                "run_control": {
                    "read_only": false
                }
            },
            "outputs": [
                {
                    "data": {
                        "text/plain": "dict_keys(['id', 'firstName', 'lastName', 'gender', 'canonicalUrl', 'photo', 'friends', 'tips', 'homeCity', 'bio', 'contact', 'photos', 'checkinPings', 'pings', 'type', 'mayorships', 'checkins', 'lists', 'blockedStatus', 'lenses'])"
                    },
                    "execution_count": 32,
                    "metadata": {},
                    "output_type": "execute_result"
                }
            ],
            "source": "user_id = '484542633' # user ID with most agree counts and complete profile\nACCESS_TOKEN = 'NV5HUGTBWSABLOKP2UEMRA2OZ32OXZ3B5Y0D5MK50FOB15SR'\n\nurl = 'https://api.foursquare.com/v2/users/{}?client_id={}&client_secret={}&oauth_token={}&v={}'.format(user_id, CLIENT_ID, CLIENT_SECRET, ACCESS_TOKEN, VERSION) # define URL\n\n# send GET request\nresults = requests.get(url).json()\nuser_data = results['response']['user']\n\n# display features associated with user\nuser_data.keys()"
        },
        {
            "cell_type": "code",
            "execution_count": 33,
            "metadata": {
                "button": false,
                "collapsed": false,
                "deletable": true,
                "jupyter": {
                    "outputs_hidden": false
                },
                "new_sheet": false,
                "run_control": {
                    "read_only": false
                }
            },
            "outputs": [
                {
                    "name": "stdout",
                    "output_type": "stream",
                    "text": "First Name: Nick\nLast Name: El-Tawil\nHome City: New York, NY\n"
                }
            ],
            "source": "print('First Name: ' + user_data['firstName'])\nprint('Last Name: ' + user_data['lastName'])\nprint('Home City: ' + user_data['homeCity'])"
        },
        {
            "cell_type": "markdown",
            "metadata": {
                "button": false,
                "deletable": true,
                "new_sheet": false,
                "run_control": {
                    "read_only": false
                }
            },
            "source": "#### How many tips has this user submitted?"
        },
        {
            "cell_type": "code",
            "execution_count": 34,
            "metadata": {
                "button": false,
                "collapsed": false,
                "deletable": true,
                "jupyter": {
                    "outputs_hidden": false
                },
                "new_sheet": false,
                "run_control": {
                    "read_only": false
                }
            },
            "outputs": [
                {
                    "data": {
                        "text/plain": "{'count': 98}"
                    },
                    "execution_count": 34,
                    "metadata": {},
                    "output_type": "execute_result"
                }
            ],
            "source": "user_data['tips']"
        },
        {
            "cell_type": "markdown",
            "metadata": {
                "button": false,
                "deletable": true,
                "new_sheet": false,
                "run_control": {
                    "read_only": false
                }
            },
            "source": "Wow! So it turns out that Nick is a very active Foursquare user, with more than 250 tips."
        },
        {
            "cell_type": "markdown",
            "metadata": {
                "button": false,
                "deletable": true,
                "new_sheet": false,
                "run_control": {
                    "read_only": false
                }
            },
            "source": "### Get User's tips"
        },
        {
            "cell_type": "code",
            "execution_count": 35,
            "metadata": {
                "button": false,
                "collapsed": false,
                "deletable": true,
                "jupyter": {
                    "outputs_hidden": false
                },
                "new_sheet": false,
                "run_control": {
                    "read_only": false
                }
            },
            "outputs": [
                {
                    "name": "stderr",
                    "output_type": "stream",
                    "text": "/home/jupyterlab/conda/envs/python/lib/python3.6/site-packages/ipykernel_launcher.py:9: FutureWarning: Passing a negative integer is deprecated in version 1.0 and will not be supported in future version. Instead, use None to not limit the column width.\n  if __name__ == '__main__':\n/home/jupyterlab/conda/envs/python/lib/python3.6/site-packages/ipykernel_launcher.py:11: FutureWarning: pandas.io.json.json_normalize is deprecated, use pandas.json_normalize instead\n  # This is added back by InteractiveShellApp.init_path()\n"
                },
                {
                    "data": {
                        "text/html": "<div>\n<style scoped>\n    .dataframe tbody tr th:only-of-type {\n        vertical-align: middle;\n    }\n\n    .dataframe tbody tr th {\n        vertical-align: top;\n    }\n\n    .dataframe thead th {\n        text-align: right;\n    }\n</style>\n<table border=\"1\" class=\"dataframe\">\n  <thead>\n    <tr style=\"text-align: right;\">\n      <th></th>\n      <th>text</th>\n      <th>agreeCount</th>\n      <th>disagreeCount</th>\n      <th>id</th>\n    </tr>\n  </thead>\n  <tbody>\n    <tr>\n      <th>0</th>\n      <td>They serve coffee!!!!!!</td>\n      <td>1</td>\n      <td>0</td>\n      <td>5accc98c0313204c9d7ec157</td>\n    </tr>\n    <tr>\n      <th>1</th>\n      <td>Quick, cheap lunch that tastes good! Way shorter line than Chipotle, too.</td>\n      <td>2</td>\n      <td>0</td>\n      <td>5acbec70a0215b732e264fe8</td>\n    </tr>\n    <tr>\n      <th>2</th>\n      <td>You\u2019re not a real New Yorker until you\u2019ve shame-ordered Insomnia Cookies for delivery at 3am</td>\n      <td>1</td>\n      <td>0</td>\n      <td>5acbbd4eb1538e45373b07f5</td>\n    </tr>\n    <tr>\n      <th>3</th>\n      <td>Good for you yet still tasty! Clean green protein is my go-to after I hit the gym \ud83d\udcaa</td>\n      <td>2</td>\n      <td>0</td>\n      <td>5acbbcda01235808d5d6dc75</td>\n    </tr>\n    <tr>\n      <th>4</th>\n      <td>Burger game strong \ud83d\udcaa</td>\n      <td>1</td>\n      <td>0</td>\n      <td>5ab575fb6bdee65f759da8c1</td>\n    </tr>\n    <tr>\n      <th>5</th>\n      <td>Great burgers &amp; fries! Also, this place is exactly what it\u2019s like when you go to a bar in the Southwest. Source: I\u2019m from Arizona.</td>\n      <td>2</td>\n      <td>0</td>\n      <td>5ab5575d73fe2516ad8f363b</td>\n    </tr>\n    <tr>\n      <th>6</th>\n      <td>A\u00e7a\u00ed bowl + peanut butter + whey protein = \ud83d\udcaa\ud83d\udcaa\ud83d\udcaa</td>\n      <td>1</td>\n      <td>0</td>\n      <td>5ab42db53c858d64af2688a4</td>\n    </tr>\n    <tr>\n      <th>7</th>\n      <td>Highly underrated and way less crowded than Central Park!</td>\n      <td>3</td>\n      <td>0</td>\n      <td>5ab42c396f706a29f53ad1a8</td>\n    </tr>\n    <tr>\n      <th>8</th>\n      <td>Way easier to navigate than the Met proper, plus the Met Breuer focuses on modern art. If I only have a limited amount of time to spend in a museum, I would rather go here than anywhere else!</td>\n      <td>6</td>\n      <td>0</td>\n      <td>5ab42b987dc9e17930e5ff5b</td>\n    </tr>\n    <tr>\n      <th>9</th>\n      <td>Get the a\u00e7a\u00ed bowl with peanut butter after your work out and thank me later \ud83d\udc4c</td>\n      <td>1</td>\n      <td>0</td>\n      <td>5ab42aca2a7ab6333652b266</td>\n    </tr>\n    <tr>\n      <th>10</th>\n      <td>When you want a burger, this should be the first thing that comes to mind. A+!</td>\n      <td>1</td>\n      <td>0</td>\n      <td>5ab42a28da5e5617d18e3a6a</td>\n    </tr>\n    <tr>\n      <th>11</th>\n      <td>Way less crowded than Central Park! People who live in the neighborhood rave about Carl Schurz Park.</td>\n      <td>3</td>\n      <td>0</td>\n      <td>5ab429db1ffe971b060083f5</td>\n    </tr>\n    <tr>\n      <th>12</th>\n      <td>The best Mexican food in the Murray Hill / Kips Bay area!</td>\n      <td>1</td>\n      <td>0</td>\n      <td>5ab3f53f8496ca57542d5549</td>\n    </tr>\n    <tr>\n      <th>13</th>\n      <td>Best coffee shop in the neighborhood!</td>\n      <td>1</td>\n      <td>0</td>\n      <td>5ab3f428da5e5617d17d1475</td>\n    </tr>\n    <tr>\n      <th>14</th>\n      <td>When there\u2019s nice weather, the rooftop at Tonic East is the best place to watch the game. Perfect for March Madness &amp; NBA finals!</td>\n      <td>2</td>\n      <td>0</td>\n      <td>5ab3f3fedd70c572de886c9d</td>\n    </tr>\n  </tbody>\n</table>\n</div>",
                        "text/plain": "                                                                                                                                                                                               text  \\\n0   They serve coffee!!!!!!                                                                                                                                                                           \n1   Quick, cheap lunch that tastes good! Way shorter line than Chipotle, too.                                                                                                                         \n2   You\u2019re not a real New Yorker until you\u2019ve shame-ordered Insomnia Cookies for delivery at 3am                                                                                                      \n3   Good for you yet still tasty! Clean green protein is my go-to after I hit the gym \ud83d\udcaa                                                                                                               \n4   Burger game strong \ud83d\udcaa                                                                                                                                                                              \n5   Great burgers & fries! Also, this place is exactly what it\u2019s like when you go to a bar in the Southwest. Source: I\u2019m from Arizona.                                                                \n6   A\u00e7a\u00ed bowl + peanut butter + whey protein = \ud83d\udcaa\ud83d\udcaa\ud83d\udcaa                                                                                                                                                    \n7   Highly underrated and way less crowded than Central Park!                                                                                                                                         \n8   Way easier to navigate than the Met proper, plus the Met Breuer focuses on modern art. If I only have a limited amount of time to spend in a museum, I would rather go here than anywhere else!   \n9   Get the a\u00e7a\u00ed bowl with peanut butter after your work out and thank me later \ud83d\udc4c                                                                                                                     \n10  When you want a burger, this should be the first thing that comes to mind. A+!                                                                                                                    \n11  Way less crowded than Central Park! People who live in the neighborhood rave about Carl Schurz Park.                                                                                              \n12  The best Mexican food in the Murray Hill / Kips Bay area!                                                                                                                                         \n13  Best coffee shop in the neighborhood!                                                                                                                                                             \n14  When there\u2019s nice weather, the rooftop at Tonic East is the best place to watch the game. Perfect for March Madness & NBA finals!                                                                 \n\n    agreeCount  disagreeCount                        id  \n0   1           0              5accc98c0313204c9d7ec157  \n1   2           0              5acbec70a0215b732e264fe8  \n2   1           0              5acbbd4eb1538e45373b07f5  \n3   2           0              5acbbcda01235808d5d6dc75  \n4   1           0              5ab575fb6bdee65f759da8c1  \n5   2           0              5ab5575d73fe2516ad8f363b  \n6   1           0              5ab42db53c858d64af2688a4  \n7   3           0              5ab42c396f706a29f53ad1a8  \n8   6           0              5ab42b987dc9e17930e5ff5b  \n9   1           0              5ab42aca2a7ab6333652b266  \n10  1           0              5ab42a28da5e5617d18e3a6a  \n11  3           0              5ab429db1ffe971b060083f5  \n12  1           0              5ab3f53f8496ca57542d5549  \n13  1           0              5ab3f428da5e5617d17d1475  \n14  2           0              5ab3f3fedd70c572de886c9d  "
                    },
                    "execution_count": 35,
                    "metadata": {},
                    "output_type": "execute_result"
                }
            ],
            "source": "# define tips URL\nurl = 'https://api.foursquare.com/v2/users/{}/tips?client_id={}&client_secret={}&v={}&limit={}'.format(user_id, CLIENT_ID, CLIENT_SECRET, VERSION, limit)\n\n# send GET request and get user's tips\nresults = requests.get(url).json()\ntips = results['response']['tips']['items']\n\n# format column width\npd.set_option('display.max_colwidth', -1)\n\ntips_df = json_normalize(tips)\n\n# filter columns\nfiltered_columns = ['text', 'agreeCount', 'disagreeCount', 'id']\ntips_filtered = tips_df.loc[:, filtered_columns]\n\n# display user's tips\ntips_filtered"
        },
        {
            "cell_type": "markdown",
            "metadata": {
                "button": false,
                "deletable": true,
                "new_sheet": false,
                "run_control": {
                    "read_only": false
                }
            },
            "source": "#### Let's get the venue for the tip with the greatest number of agree counts"
        },
        {
            "cell_type": "code",
            "execution_count": 36,
            "metadata": {
                "button": false,
                "collapsed": false,
                "deletable": true,
                "jupyter": {
                    "outputs_hidden": false
                },
                "new_sheet": false,
                "run_control": {
                    "read_only": false
                }
            },
            "outputs": [
                {
                    "name": "stdout",
                    "output_type": "stream",
                    "text": "Cowgirl\n{'address': '519 Hudson St', 'crossStreet': 'at W 10th St', 'lat': 40.73373338282062, 'lng': -74.0062998849649, 'labeledLatLngs': [{'label': 'display', 'lat': 40.73373338282062, 'lng': -74.0062998849649}], 'postalCode': '10014', 'cc': 'US', 'city': 'New York', 'state': 'NY', 'country': 'United States', 'formattedAddress': ['519 Hudson St (at W 10th St)', 'New York, NY 10014', 'United States']}\n"
                }
            ],
            "source": "tip_id = '5ab5575d73fe2516ad8f363b' # tip id\n\n# define URL\nurl = 'http://api.foursquare.com/v2/tips/{}?client_id={}&client_secret={}&v={}'.format(tip_id, CLIENT_ID, CLIENT_SECRET, VERSION)\n\n# send GET Request and examine results\nresult = requests.get(url).json()\nprint(result['response']['tip']['venue']['name'])\nprint(result['response']['tip']['venue']['location'])"
        },
        {
            "cell_type": "markdown",
            "metadata": {
                "button": false,
                "deletable": true,
                "new_sheet": false,
                "run_control": {
                    "read_only": false
                }
            },
            "source": "### Get User's friends"
        },
        {
            "cell_type": "code",
            "execution_count": 37,
            "metadata": {
                "button": false,
                "collapsed": false,
                "deletable": true,
                "jupyter": {
                    "outputs_hidden": false
                },
                "new_sheet": false,
                "run_control": {
                    "read_only": false
                }
            },
            "outputs": [
                {
                    "name": "stderr",
                    "output_type": "stream",
                    "text": "/home/jupyterlab/conda/envs/python/lib/python3.6/site-packages/ipykernel_launcher.py:1: FutureWarning: pandas.io.json.json_normalize is deprecated, use pandas.json_normalize instead\n  \"\"\"Entry point for launching an IPython kernel.\n"
                },
                {
                    "data": {
                        "text/html": "<div>\n<style scoped>\n    .dataframe tbody tr th:only-of-type {\n        vertical-align: middle;\n    }\n\n    .dataframe tbody tr th {\n        vertical-align: top;\n    }\n\n    .dataframe thead th {\n        text-align: right;\n    }\n</style>\n<table border=\"1\" class=\"dataframe\">\n  <thead>\n    <tr style=\"text-align: right;\">\n      <th></th>\n    </tr>\n  </thead>\n  <tbody>\n  </tbody>\n</table>\n</div>",
                        "text/plain": "Empty DataFrame\nColumns: []\nIndex: []"
                    },
                    "execution_count": 37,
                    "metadata": {},
                    "output_type": "execute_result"
                }
            ],
            "source": "user_friends = json_normalize(user_data['friends']['groups'][0]['items'])\nuser_friends"
        },
        {
            "cell_type": "markdown",
            "metadata": {
                "button": false,
                "deletable": true,
                "new_sheet": false,
                "run_control": {
                    "read_only": false
                }
            },
            "source": "Interesting. Despite being very active, it turns out that Nick does not have any friends on Foursquare. This might definitely change in the future."
        },
        {
            "cell_type": "markdown",
            "metadata": {
                "button": false,
                "deletable": true,
                "new_sheet": false,
                "run_control": {
                    "read_only": false
                }
            },
            "source": "### Retrieve the User's Profile Image"
        },
        {
            "cell_type": "code",
            "execution_count": 38,
            "metadata": {
                "button": false,
                "collapsed": false,
                "deletable": true,
                "jupyter": {
                    "outputs_hidden": false
                },
                "new_sheet": false,
                "run_control": {
                    "read_only": false
                },
                "scrolled": true
            },
            "outputs": [
                {
                    "data": {
                        "text/plain": "{'id': '484542633',\n 'firstName': 'Nick',\n 'lastName': 'El-Tawil',\n 'gender': 'male',\n 'canonicalUrl': 'https://foursquare.com/user/484542633',\n 'photo': {'prefix': 'https://fastly.4sqi.net/img/user/',\n  'suffix': '/484542633_unymNUmw_FdPs3GjXHujmHcYnN4hf8kEPADlOZuIrdcdm97VX3tFqL7fFNMNA_8Gl9NlU1GYg.jpg'},\n 'friends': {'count': 0,\n  'groups': [{'type': 'friends',\n    'name': 'Mutual friends',\n    'count': 0,\n    'items': []},\n   {'type': 'others', 'name': 'Other friends', 'count': 0, 'items': []}]},\n 'tips': {'count': 98},\n 'homeCity': 'New York, NY',\n 'bio': 'https://www.tawil.team/nick-el-tawil/',\n 'contact': {'twitter': 'nickeltawil'},\n 'photos': {'count': 2,\n  'items': [{'id': '5e41a7ce346b7c00085b0f70',\n    'createdAt': 1581361102,\n    'source': {'name': 'Foursquare for iOS',\n     'url': 'https://foursquare.com/download/#/iphone'},\n    'prefix': 'https://fastly.4sqi.net/img/general/',\n    'suffix': '/484542633_cF12vc8JQJTd-hyznst-CsHHTdSoi4XwCGKhTuQXNfo.jpg',\n    'width': 1440,\n    'height': 1440,\n    'visibility': 'public',\n    'venue': {'id': '5ab194451ffed736e329b365',\n     'name': 'Tawil & Team',\n     'location': {'address': '413 W 14th St # 200',\n      'crossStreet': '9th Avenue',\n      'lat': 40.739614,\n      'lng': -74.005877,\n      'labeledLatLngs': [{'label': 'display',\n        'lat': 40.739614,\n        'lng': -74.005877}],\n      'postalCode': '10014',\n      'cc': 'US',\n      'city': 'New York',\n      'state': 'NY',\n      'country': 'United States',\n      'formattedAddress': ['413 W 14th St # 200 (9th Avenue)',\n       'New York, NY 10014']},\n     'categories': [{'id': '5032885091d4c4b30a586d66',\n       'name': 'Real Estate Office',\n       'pluralName': 'Real Estate Offices',\n       'shortName': 'Real Estate',\n       'icon': {'prefix': 'https://ss3.4sqi.net/img/categories_v2/shops/realestate_',\n        'suffix': '.png'},\n       'primary': True}],\n     'like': False}}]},\n 'checkinPings': 'off',\n 'pings': False,\n 'type': 'user',\n 'mayorships': {'count': 0, 'items': []},\n 'checkins': {'count': 1, 'items': []},\n 'lists': {'count': 2,\n  'groups': [{'type': 'created', 'count': 0, 'items': []},\n   {'type': 'followed', 'count': 0, 'items': []},\n   {'type': 'yours',\n    'count': 2,\n    'items': [{'id': '484542633/todos',\n      'name': \"Nick's Saved Places\",\n      'description': '',\n      'type': 'todos',\n      'editable': False,\n      'public': True,\n      'collaborative': False,\n      'url': '/nickeltawil/list/todos',\n      'canonicalUrl': 'https://foursquare.com/nickeltawil/list/todos',\n      'listItems': {'count': 1}},\n     {'id': '484542633/venuelikes',\n      'name': 'Nick\u2019s Liked Places',\n      'description': '',\n      'type': 'likes',\n      'editable': False,\n      'public': True,\n      'collaborative': False,\n      'url': '/nickeltawil/list/venuelikes',\n      'canonicalUrl': 'https://foursquare.com/nickeltawil/list/venuelikes',\n      'listItems': {'count': 0}}]}]},\n 'blockedStatus': 'none',\n 'lenses': []}"
                    },
                    "execution_count": 38,
                    "metadata": {},
                    "output_type": "execute_result"
                }
            ],
            "source": "user_data"
        },
        {
            "cell_type": "code",
            "execution_count": 39,
            "metadata": {
                "button": false,
                "collapsed": false,
                "deletable": true,
                "jupyter": {
                    "outputs_hidden": false
                },
                "new_sheet": false,
                "run_control": {
                    "read_only": false
                }
            },
            "outputs": [
                {
                    "data": {
                        "text/html": "<img src=\"https://igx.4sqi.net/img/user/300x300/484542633_mK2Yum7T_7Tn9fWpndidJsmw2Hof_6T5vJBKCHPLMK5OL-U5ZiJGj51iwBstcpDLYa3Zvhvis.jpg\"/>",
                        "text/plain": "<IPython.core.display.Image object>"
                    },
                    "execution_count": 39,
                    "metadata": {},
                    "output_type": "execute_result"
                }
            ],
            "source": "# 1. grab prefix of photo\n# 2. grab suffix of photo\n# 3. concatenate them using the image size  \nImage(url='https://igx.4sqi.net/img/user/300x300/484542633_mK2Yum7T_7Tn9fWpndidJsmw2Hof_6T5vJBKCHPLMK5OL-U5ZiJGj51iwBstcpDLYa3Zvhvis.jpg')"
        },
        {
            "cell_type": "markdown",
            "metadata": {
                "button": false,
                "deletable": true,
                "new_sheet": false,
                "run_control": {
                    "read_only": false
                }
            },
            "source": "  "
        },
        {
            "cell_type": "markdown",
            "metadata": {
                "button": false,
                "deletable": true,
                "new_sheet": false,
                "run_control": {
                    "read_only": false
                }
            },
            "source": "<a id=\"item4\"></a>"
        },
        {
            "cell_type": "markdown",
            "metadata": {
                "button": false,
                "deletable": true,
                "new_sheet": false,
                "run_control": {
                    "read_only": false
                }
            },
            "source": "## 4. Explore a location\n> `https://api.foursquare.com/v2/venues/`**explore**`?client_id=`**CLIENT_ID**`&client_secret=`**CLIENT_SECRET**`&ll=`**LATITUDE**`,`**LONGITUDE**`&v=`**VERSION**`&limit=`**LIMIT**"
        },
        {
            "cell_type": "markdown",
            "metadata": {
                "button": false,
                "deletable": true,
                "new_sheet": false,
                "run_control": {
                    "read_only": false
                }
            },
            "source": "#### So, you just finished your gourmet dish at Ecco, and are just curious about the popular spots around the restaurant. In order to explore the area, let's start by getting the latitude and longitude values of Ecco Restaurant."
        },
        {
            "cell_type": "code",
            "execution_count": 40,
            "metadata": {
                "button": false,
                "deletable": true,
                "new_sheet": false,
                "run_control": {
                    "read_only": false
                }
            },
            "outputs": [],
            "source": "latitude = 40.715337\nlongitude = -74.008848"
        },
        {
            "cell_type": "markdown",
            "metadata": {
                "button": false,
                "deletable": true,
                "new_sheet": false,
                "run_control": {
                    "read_only": false
                }
            },
            "source": "#### Define URL"
        },
        {
            "cell_type": "code",
            "execution_count": 41,
            "metadata": {
                "button": false,
                "collapsed": false,
                "deletable": true,
                "jupyter": {
                    "outputs_hidden": false
                },
                "new_sheet": false,
                "run_control": {
                    "read_only": false
                }
            },
            "outputs": [
                {
                    "data": {
                        "text/plain": "'https://api.foursquare.com/v2/venues/explore?client_id=K25YJQ3E34V2MXHR20RADQP2RRXKMG3MFBH0EOQXDWPTWIEF&client_secret=IXN45POIIHEDSELYWOD5CYCL4YIHCBR0DVVJYJ4R5IHXOPUU&ll=40.715337,-74.008848&v=20180604&radius=500&limit=30'"
                    },
                    "execution_count": 41,
                    "metadata": {},
                    "output_type": "execute_result"
                }
            ],
            "source": "url = 'https://api.foursquare.com/v2/venues/explore?client_id={}&client_secret={}&ll={},{}&v={}&radius={}&limit={}'.format(CLIENT_ID, CLIENT_SECRET, latitude, longitude, VERSION, radius, LIMIT)\nurl"
        },
        {
            "cell_type": "markdown",
            "metadata": {
                "button": false,
                "deletable": true,
                "new_sheet": false,
                "run_control": {
                    "read_only": false
                }
            },
            "source": "#### Send GET request and examine results"
        },
        {
            "cell_type": "code",
            "execution_count": 42,
            "metadata": {
                "button": false,
                "deletable": true,
                "new_sheet": false,
                "run_control": {
                    "read_only": false
                }
            },
            "outputs": [],
            "source": "import requests"
        },
        {
            "cell_type": "code",
            "execution_count": 43,
            "metadata": {
                "button": false,
                "collapsed": false,
                "deletable": true,
                "jupyter": {
                    "outputs_hidden": false
                },
                "new_sheet": false,
                "run_control": {
                    "read_only": false
                }
            },
            "outputs": [
                {
                    "data": {
                        "text/plain": "'There are 30 around Ecco restaurant.'"
                    },
                    "execution_count": 43,
                    "metadata": {},
                    "output_type": "execute_result"
                }
            ],
            "source": "results = requests.get(url).json()\n'There are {} around Ecco restaurant.'.format(len(results['response']['groups'][0]['items']))"
        },
        {
            "cell_type": "markdown",
            "metadata": {
                "button": false,
                "deletable": true,
                "new_sheet": false,
                "run_control": {
                    "read_only": false
                }
            },
            "source": "#### Get relevant part of JSON"
        },
        {
            "cell_type": "code",
            "execution_count": 44,
            "metadata": {
                "button": false,
                "collapsed": false,
                "deletable": true,
                "jupyter": {
                    "outputs_hidden": false
                },
                "new_sheet": false,
                "run_control": {
                    "read_only": false
                }
            },
            "outputs": [
                {
                    "data": {
                        "text/plain": "{'reasons': {'count': 0,\n  'items': [{'summary': 'This spot is popular',\n    'type': 'general',\n    'reasonName': 'globalInteractionReason'}]},\n 'venue': {'id': '54148bc6498ea7bb8c05b70a',\n  'name': 'Juice Press',\n  'location': {'address': '83 Murray St',\n   'crossStreet': 'btwn Greenwich St & W Broadway',\n   'lat': 40.71478769908051,\n   'lng': -74.0111317502157,\n   'labeledLatLngs': [{'label': 'display',\n     'lat': 40.71478769908051,\n     'lng': -74.0111317502157}],\n   'distance': 202,\n   'postalCode': '10007',\n   'cc': 'US',\n   'city': 'New York',\n   'state': 'NY',\n   'country': 'United States',\n   'formattedAddress': ['83 Murray St (btwn Greenwich St & W Broadway)',\n    'New York, NY 10007',\n    'United States']},\n  'categories': [{'id': '4bf58dd8d48988d1d3941735',\n    'name': 'Vegetarian / Vegan Restaurant',\n    'pluralName': 'Vegetarian / Vegan Restaurants',\n    'shortName': 'Vegetarian / Vegan',\n    'icon': {'prefix': 'https://ss3.4sqi.net/img/categories_v2/food/vegetarian_',\n     'suffix': '.png'},\n    'primary': True}],\n  'photos': {'count': 0, 'groups': []}},\n 'referralId': 'e-0-54148bc6498ea7bb8c05b70a-0'}"
                    },
                    "execution_count": 44,
                    "metadata": {},
                    "output_type": "execute_result"
                }
            ],
            "source": "items = results['response']['groups'][0]['items']\nitems[0]"
        },
        {
            "cell_type": "markdown",
            "metadata": {
                "button": false,
                "deletable": true,
                "new_sheet": false,
                "run_control": {
                    "read_only": false
                }
            },
            "source": "#### Process JSON and convert it to a clean dataframe"
        },
        {
            "cell_type": "code",
            "execution_count": 45,
            "metadata": {
                "button": false,
                "collapsed": false,
                "deletable": true,
                "jupyter": {
                    "outputs_hidden": false
                },
                "new_sheet": false,
                "run_control": {
                    "read_only": false
                }
            },
            "outputs": [
                {
                    "name": "stderr",
                    "output_type": "stream",
                    "text": "/home/jupyterlab/conda/envs/python/lib/python3.6/site-packages/ipykernel_launcher.py:1: FutureWarning: pandas.io.json.json_normalize is deprecated, use pandas.json_normalize instead\n  \"\"\"Entry point for launching an IPython kernel.\n"
                },
                {
                    "data": {
                        "text/html": "<div>\n<style scoped>\n    .dataframe tbody tr th:only-of-type {\n        vertical-align: middle;\n    }\n\n    .dataframe tbody tr th {\n        vertical-align: top;\n    }\n\n    .dataframe thead th {\n        text-align: right;\n    }\n</style>\n<table border=\"1\" class=\"dataframe\">\n  <thead>\n    <tr style=\"text-align: right;\">\n      <th></th>\n      <th>name</th>\n      <th>categories</th>\n      <th>address</th>\n      <th>crossStreet</th>\n      <th>lat</th>\n      <th>lng</th>\n      <th>labeledLatLngs</th>\n      <th>distance</th>\n      <th>postalCode</th>\n      <th>cc</th>\n      <th>city</th>\n      <th>state</th>\n      <th>country</th>\n      <th>formattedAddress</th>\n      <th>neighborhood</th>\n      <th>id</th>\n    </tr>\n  </thead>\n  <tbody>\n    <tr>\n      <th>0</th>\n      <td>Juice Press</td>\n      <td>Vegetarian / Vegan Restaurant</td>\n      <td>83 Murray St</td>\n      <td>btwn Greenwich St &amp; W Broadway</td>\n      <td>40.714788</td>\n      <td>-74.011132</td>\n      <td>[{'label': 'display', 'lat': 40.71478769908051, 'lng': -74.0111317502157}]</td>\n      <td>202</td>\n      <td>10007</td>\n      <td>US</td>\n      <td>New York</td>\n      <td>NY</td>\n      <td>United States</td>\n      <td>[83 Murray St (btwn Greenwich St &amp; W Broadway), New York, NY 10007, United States]</td>\n      <td>NaN</td>\n      <td>54148bc6498ea7bb8c05b70a</td>\n    </tr>\n    <tr>\n      <th>1</th>\n      <td>Korin</td>\n      <td>Furniture / Home Store</td>\n      <td>57 Warren St</td>\n      <td>Church St</td>\n      <td>40.714824</td>\n      <td>-74.009404</td>\n      <td>[{'label': 'display', 'lat': 40.71482437714839, 'lng': -74.00940425461492}, {'label': '?', 'lat': 40.714727, 'lng': -74.009399}]</td>\n      <td>73</td>\n      <td>10007</td>\n      <td>US</td>\n      <td>New York</td>\n      <td>NY</td>\n      <td>United States</td>\n      <td>[57 Warren St (Church St), New York, NY 10007, United States]</td>\n      <td>Tribeca</td>\n      <td>4af5d65ff964a52091fd21e3</td>\n    </tr>\n    <tr>\n      <th>2</th>\n      <td>Los Tacos No. 1</td>\n      <td>Taco Place</td>\n      <td>136 Church St</td>\n      <td>NaN</td>\n      <td>40.714267</td>\n      <td>-74.008756</td>\n      <td>[{'label': 'display', 'lat': 40.714267, 'lng': -74.008756}]</td>\n      <td>119</td>\n      <td>10007</td>\n      <td>US</td>\n      <td>New York</td>\n      <td>NY</td>\n      <td>United States</td>\n      <td>[136 Church St, New York, NY 10007, United States]</td>\n      <td>NaN</td>\n      <td>5d5f24ec09484500079aee00</td>\n    </tr>\n    <tr>\n      <th>3</th>\n      <td>Takahachi Bakery</td>\n      <td>Bakery</td>\n      <td>25 Murray St</td>\n      <td>at Church St</td>\n      <td>40.713653</td>\n      <td>-74.008804</td>\n      <td>[{'label': 'display', 'lat': 40.713652845301894, 'lng': -74.0088038953017}, {'label': '?', 'lat': 40.713716, 'lng': -74.008443}]</td>\n      <td>187</td>\n      <td>10007</td>\n      <td>US</td>\n      <td>New York</td>\n      <td>NY</td>\n      <td>United States</td>\n      <td>[25 Murray St (at Church St), New York, NY 10007, United States]</td>\n      <td>NaN</td>\n      <td>4c154c9a77cea593c401d260</td>\n    </tr>\n    <tr>\n      <th>4</th>\n      <td>Takahachi</td>\n      <td>Sushi Restaurant</td>\n      <td>145 Duane St</td>\n      <td>btwn W Broadway &amp; Church St</td>\n      <td>40.716526</td>\n      <td>-74.008101</td>\n      <td>[{'label': 'display', 'lat': 40.71652647412374, 'lng': -74.00810108466207}, {'label': '?', 'lat': 40.716508, 'lng': -74.007989}]</td>\n      <td>146</td>\n      <td>10013</td>\n      <td>US</td>\n      <td>New York</td>\n      <td>NY</td>\n      <td>United States</td>\n      <td>[145 Duane St (btwn W Broadway &amp; Church St), New York, NY 10013, United States]</td>\n      <td>NaN</td>\n      <td>4a8f2f39f964a520471420e3</td>\n    </tr>\n    <tr>\n      <th>5</th>\n      <td>Exceed Physical Culture</td>\n      <td>Gym / Fitness Center</td>\n      <td>97 Reade St</td>\n      <td>bet W Broadway &amp; Church St</td>\n      <td>40.715629</td>\n      <td>-74.007992</td>\n      <td>[{'label': 'display', 'lat': 40.7156286200256, 'lng': -74.0079922583853}, {'label': '?', 'lat': 40.715589, 'lng': -74.008105}]</td>\n      <td>79</td>\n      <td>10013</td>\n      <td>US</td>\n      <td>New York</td>\n      <td>NY</td>\n      <td>United States</td>\n      <td>[97 Reade St (bet W Broadway &amp; Church St), New York, NY 10013, United States]</td>\n      <td>Tribeca</td>\n      <td>53910ac3498e57a5dc0eb160</td>\n    </tr>\n    <tr>\n      <th>6</th>\n      <td>Equinox Tribeca</td>\n      <td>Gym</td>\n      <td>54 Murray St</td>\n      <td>at W Broadway</td>\n      <td>40.714099</td>\n      <td>-74.009686</td>\n      <td>[{'label': 'display', 'lat': 40.71409860726041, 'lng': -74.0096857179283}]</td>\n      <td>154</td>\n      <td>10007</td>\n      <td>US</td>\n      <td>New York</td>\n      <td>NY</td>\n      <td>United States</td>\n      <td>[54 Murray St (at W Broadway), New York, NY 10007, United States]</td>\n      <td>NaN</td>\n      <td>4a6e331af964a52031d41fe3</td>\n    </tr>\n    <tr>\n      <th>7</th>\n      <td>Whole Foods Market</td>\n      <td>Grocery Store</td>\n      <td>270 Greenwich Street</td>\n      <td>at Warren St</td>\n      <td>40.715579</td>\n      <td>-74.011368</td>\n      <td>[{'label': 'display', 'lat': 40.715579155420606, 'lng': -74.01136823958119}]</td>\n      <td>214</td>\n      <td>10007</td>\n      <td>US</td>\n      <td>New York</td>\n      <td>NY</td>\n      <td>United States</td>\n      <td>[270 Greenwich Street (at Warren St), New York, NY 10007, United States]</td>\n      <td>Tribeca</td>\n      <td>49bc3b0af964a52020541fe3</td>\n    </tr>\n    <tr>\n      <th>8</th>\n      <td>Heyday</td>\n      <td>Spa</td>\n      <td>92 Reade St</td>\n      <td>NaN</td>\n      <td>40.715726</td>\n      <td>-74.007767</td>\n      <td>[{'label': 'display', 'lat': 40.715726, 'lng': -74.007767}, {'label': '?', 'lat': 40.715654, 'lng': -74.00782}]</td>\n      <td>100</td>\n      <td>10013</td>\n      <td>US</td>\n      <td>New York</td>\n      <td>NY</td>\n      <td>United States</td>\n      <td>[92 Reade St, New York, NY 10013, United States]</td>\n      <td>NaN</td>\n      <td>57ad129c498e05b086594d72</td>\n    </tr>\n    <tr>\n      <th>9</th>\n      <td>Chambers Street Wines</td>\n      <td>Wine Shop</td>\n      <td>148 Chambers St</td>\n      <td>btwn West Broadway &amp; Hudson St</td>\n      <td>40.715773</td>\n      <td>-74.009718</td>\n      <td>[{'label': 'display', 'lat': 40.715773063928374, 'lng': -74.00971823312332}, {'label': '?', 'lat': 40.715696, 'lng': -74.00988}]</td>\n      <td>88</td>\n      <td>10007</td>\n      <td>US</td>\n      <td>New York</td>\n      <td>NY</td>\n      <td>United States</td>\n      <td>[148 Chambers St (btwn West Broadway &amp; Hudson St), New York, NY 10007, United States]</td>\n      <td>NaN</td>\n      <td>4adcf23cf964a520cc6221e3</td>\n    </tr>\n  </tbody>\n</table>\n</div>",
                        "text/plain": "                      name                     categories  \\\n0  Juice Press              Vegetarian / Vegan Restaurant   \n1  Korin                    Furniture / Home Store          \n2  Los Tacos No. 1          Taco Place                      \n3  Takahachi Bakery         Bakery                          \n4  Takahachi                Sushi Restaurant                \n5  Exceed Physical Culture  Gym / Fitness Center            \n6  Equinox Tribeca          Gym                             \n7  Whole Foods Market       Grocery Store                   \n8  Heyday                   Spa                             \n9  Chambers Street Wines    Wine Shop                       \n\n                address                     crossStreet        lat        lng  \\\n0  83 Murray St          btwn Greenwich St & W Broadway  40.714788 -74.011132   \n1  57 Warren St          Church St                       40.714824 -74.009404   \n2  136 Church St         NaN                             40.714267 -74.008756   \n3  25 Murray St          at Church St                    40.713653 -74.008804   \n4  145 Duane St          btwn W Broadway & Church St     40.716526 -74.008101   \n5  97 Reade St           bet W Broadway & Church St      40.715629 -74.007992   \n6  54 Murray St          at W Broadway                   40.714099 -74.009686   \n7  270 Greenwich Street  at Warren St                    40.715579 -74.011368   \n8  92 Reade St           NaN                             40.715726 -74.007767   \n9  148 Chambers St       btwn West Broadway & Hudson St  40.715773 -74.009718   \n\n                                                                                                                     labeledLatLngs  \\\n0  [{'label': 'display', 'lat': 40.71478769908051, 'lng': -74.0111317502157}]                                                         \n1  [{'label': 'display', 'lat': 40.71482437714839, 'lng': -74.00940425461492}, {'label': '?', 'lat': 40.714727, 'lng': -74.009399}]   \n2  [{'label': 'display', 'lat': 40.714267, 'lng': -74.008756}]                                                                        \n3  [{'label': 'display', 'lat': 40.713652845301894, 'lng': -74.0088038953017}, {'label': '?', 'lat': 40.713716, 'lng': -74.008443}]   \n4  [{'label': 'display', 'lat': 40.71652647412374, 'lng': -74.00810108466207}, {'label': '?', 'lat': 40.716508, 'lng': -74.007989}]   \n5  [{'label': 'display', 'lat': 40.7156286200256, 'lng': -74.0079922583853}, {'label': '?', 'lat': 40.715589, 'lng': -74.008105}]     \n6  [{'label': 'display', 'lat': 40.71409860726041, 'lng': -74.0096857179283}]                                                         \n7  [{'label': 'display', 'lat': 40.715579155420606, 'lng': -74.01136823958119}]                                                       \n8  [{'label': 'display', 'lat': 40.715726, 'lng': -74.007767}, {'label': '?', 'lat': 40.715654, 'lng': -74.00782}]                    \n9  [{'label': 'display', 'lat': 40.715773063928374, 'lng': -74.00971823312332}, {'label': '?', 'lat': 40.715696, 'lng': -74.00988}]   \n\n   distance postalCode  cc      city state        country  \\\n0  202       10007      US  New York  NY    United States   \n1  73        10007      US  New York  NY    United States   \n2  119       10007      US  New York  NY    United States   \n3  187       10007      US  New York  NY    United States   \n4  146       10013      US  New York  NY    United States   \n5  79        10013      US  New York  NY    United States   \n6  154       10007      US  New York  NY    United States   \n7  214       10007      US  New York  NY    United States   \n8  100       10013      US  New York  NY    United States   \n9  88        10007      US  New York  NY    United States   \n\n                                                                        formattedAddress  \\\n0  [83 Murray St (btwn Greenwich St & W Broadway), New York, NY 10007, United States]      \n1  [57 Warren St (Church St), New York, NY 10007, United States]                           \n2  [136 Church St, New York, NY 10007, United States]                                      \n3  [25 Murray St (at Church St), New York, NY 10007, United States]                        \n4  [145 Duane St (btwn W Broadway & Church St), New York, NY 10013, United States]         \n5  [97 Reade St (bet W Broadway & Church St), New York, NY 10013, United States]           \n6  [54 Murray St (at W Broadway), New York, NY 10007, United States]                       \n7  [270 Greenwich Street (at Warren St), New York, NY 10007, United States]                \n8  [92 Reade St, New York, NY 10013, United States]                                        \n9  [148 Chambers St (btwn West Broadway & Hudson St), New York, NY 10007, United States]   \n\n  neighborhood                        id  \n0  NaN          54148bc6498ea7bb8c05b70a  \n1  Tribeca      4af5d65ff964a52091fd21e3  \n2  NaN          5d5f24ec09484500079aee00  \n3  NaN          4c154c9a77cea593c401d260  \n4  NaN          4a8f2f39f964a520471420e3  \n5  Tribeca      53910ac3498e57a5dc0eb160  \n6  NaN          4a6e331af964a52031d41fe3  \n7  Tribeca      49bc3b0af964a52020541fe3  \n8  NaN          57ad129c498e05b086594d72  \n9  NaN          4adcf23cf964a520cc6221e3  "
                    },
                    "execution_count": 45,
                    "metadata": {},
                    "output_type": "execute_result"
                }
            ],
            "source": "dataframe = json_normalize(items) # flatten JSON\n\n# filter columns\nfiltered_columns = ['venue.name', 'venue.categories'] + [col for col in dataframe.columns if col.startswith('venue.location.')] + ['venue.id']\ndataframe_filtered = dataframe.loc[:, filtered_columns]\n\n# filter the category for each row\ndataframe_filtered['venue.categories'] = dataframe_filtered.apply(get_category_type, axis=1)\n\n# clean columns\ndataframe_filtered.columns = [col.split('.')[-1] for col in dataframe_filtered.columns]\n\ndataframe_filtered.head(10)"
        },
        {
            "cell_type": "markdown",
            "metadata": {
                "button": false,
                "deletable": true,
                "new_sheet": false,
                "run_control": {
                    "read_only": false
                }
            },
            "source": "#### Let's visualize these items on the map around our location"
        },
        {
            "cell_type": "code",
            "execution_count": 46,
            "metadata": {
                "button": false,
                "collapsed": false,
                "deletable": true,
                "jupyter": {
                    "outputs_hidden": false
                },
                "new_sheet": false,
                "run_control": {
                    "read_only": false
                }
            },
            "outputs": [
                {
                    "data": {
                        "text/html": "<div style=\"width:100%;\"><div style=\"position:relative;width:100%;height:0;padding-bottom:60%;\"><iframe src=\"about:blank\" style=\"position:absolute;width:100%;height:100%;left:0;top:0;border:none !important;\" data-html=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 onload=\"this.contentDocument.open();this.contentDocument.write(atob(this.getAttribute('data-html')));this.contentDocument.close();\" allowfullscreen webkitallowfullscreen mozallowfullscreen></iframe></div></div>",
                        "text/plain": "<folium.folium.Map at 0x7fd04009db38>"
                    },
                    "execution_count": 46,
                    "metadata": {},
                    "output_type": "execute_result"
                }
            ],
            "source": "venues_map = folium.Map(location=[latitude, longitude], zoom_start=15) # generate map centred around Ecco\n\n\n# add Ecco as a red circle mark\nfolium.features.CircleMarker(\n    [latitude, longitude],\n    radius=10,\n    popup='Ecco',\n    fill=True,\n    color='red',\n    fill_color='red',\n    fill_opacity=0.6\n    ).add_to(venues_map)\n\n\n# add popular spots to the map as blue circle markers\nfor lat, lng, label in zip(dataframe_filtered.lat, dataframe_filtered.lng, dataframe_filtered.categories):\n    folium.features.CircleMarker(\n        [lat, lng],\n        radius=5,\n        popup=label,\n        fill=True,\n        color='blue',\n        fill_color='blue',\n        fill_opacity=0.6\n        ).add_to(venues_map)\n\n# display map\nvenues_map"
        },
        {
            "cell_type": "markdown",
            "metadata": {
                "button": false,
                "deletable": true,
                "new_sheet": false,
                "run_control": {
                    "read_only": false
                }
            },
            "source": "   "
        },
        {
            "cell_type": "markdown",
            "metadata": {
                "button": false,
                "deletable": true,
                "new_sheet": false,
                "run_control": {
                    "read_only": false
                }
            },
            "source": "<a id=\"item5\"></a>"
        },
        {
            "cell_type": "markdown",
            "metadata": {
                "button": false,
                "deletable": true,
                "new_sheet": false,
                "run_control": {
                    "read_only": false
                }
            },
            "source": "## 5. Explore Trending Venues\n> `https://api.foursquare.com/v2/venues/`**trending**`?client_id=`**CLIENT_ID**`&client_secret=`**CLIENT_SECRET**`&ll=`**LATITUDE**`,`**LONGITUDE**`&v=`**VERSION**"
        },
        {
            "cell_type": "markdown",
            "metadata": {
                "button": false,
                "deletable": true,
                "new_sheet": false,
                "run_control": {
                    "read_only": false
                }
            },
            "source": "#### Now, instead of simply exploring the area around Ecco, you are interested in knowing the venues that are trending at the time you are done with your lunch, meaning the places with the highest foot traffic. So let's do that and get the trending venues around Ecco."
        },
        {
            "cell_type": "code",
            "execution_count": 47,
            "metadata": {
                "button": false,
                "collapsed": false,
                "deletable": true,
                "jupyter": {
                    "outputs_hidden": false
                },
                "new_sheet": false,
                "run_control": {
                    "read_only": false
                }
            },
            "outputs": [
                {
                    "data": {
                        "text/plain": "{'meta': {'code': 200, 'requestId': '5ea25b4578a484001bfb6545'},\n 'response': {'venues': []}}"
                    },
                    "execution_count": 47,
                    "metadata": {},
                    "output_type": "execute_result"
                }
            ],
            "source": "# define URL\nurl = 'https://api.foursquare.com/v2/venues/trending?client_id={}&client_secret={}&ll={},{}&v={}'.format(CLIENT_ID, CLIENT_SECRET, latitude, longitude, VERSION)\n\n# send GET request and get trending venues\nresults = requests.get(url).json()\nresults"
        },
        {
            "cell_type": "markdown",
            "metadata": {
                "button": false,
                "deletable": true,
                "new_sheet": false,
                "run_control": {
                    "read_only": false
                }
            },
            "source": "### Check if any venues are trending at this time"
        },
        {
            "cell_type": "code",
            "execution_count": 48,
            "metadata": {
                "button": false,
                "deletable": true,
                "new_sheet": false,
                "run_control": {
                    "read_only": false
                }
            },
            "outputs": [],
            "source": "if len(results['response']['venues']) == 0:\n    trending_venues_df = 'No trending venues are available at the moment!'\n    \nelse:\n    trending_venues = results['response']['venues']\n    trending_venues_df = json_normalize(trending_venues)\n\n    # filter columns\n    columns_filtered = ['name', 'categories'] + ['location.distance', 'location.city', 'location.postalCode', 'location.state', 'location.country', 'location.lat', 'location.lng']\n    trending_venues_df = trending_venues_df.loc[:, columns_filtered]\n\n    # filter the category for each row\n    trending_venues_df['categories'] = trending_venues_df.apply(get_category_type, axis=1)"
        },
        {
            "cell_type": "code",
            "execution_count": 49,
            "metadata": {
                "button": false,
                "collapsed": false,
                "deletable": true,
                "jupyter": {
                    "outputs_hidden": false
                },
                "new_sheet": false,
                "run_control": {
                    "read_only": false
                }
            },
            "outputs": [
                {
                    "data": {
                        "text/plain": "'No trending venues are available at the moment!'"
                    },
                    "execution_count": 49,
                    "metadata": {},
                    "output_type": "execute_result"
                }
            ],
            "source": "# display trending venues\ntrending_venues_df"
        },
        {
            "cell_type": "markdown",
            "metadata": {
                "button": false,
                "deletable": true,
                "new_sheet": false,
                "run_control": {
                    "read_only": false
                }
            },
            "source": "Now, depending on when you run the above code, you might get different venues since the venues with the highest foot traffic are fetched live. "
        },
        {
            "cell_type": "markdown",
            "metadata": {
                "button": false,
                "deletable": true,
                "new_sheet": false,
                "run_control": {
                    "read_only": false
                }
            },
            "source": "### Visualize trending venues"
        },
        {
            "cell_type": "code",
            "execution_count": 50,
            "metadata": {
                "button": false,
                "collapsed": false,
                "deletable": true,
                "jupyter": {
                    "outputs_hidden": false
                },
                "new_sheet": false,
                "run_control": {
                    "read_only": false
                }
            },
            "outputs": [],
            "source": "if len(results['response']['venues']) == 0:\n    venues_map = 'Cannot generate visual as no trending venues are available at the moment!'\n\nelse:\n    venues_map = folium.Map(location=[latitude, longitude], zoom_start=15) # generate map centred around Ecco\n\n\n    # add Ecco as a red circle mark\n    folium.features.CircleMarker(\n        [latitude, longitude],\n        radius=10,\n        popup='Ecco',\n        fill=True,\n        color='red',\n        fill_color='red',\n        fill_opacity=0.6\n    ).add_to(venues_map)\n\n\n    # add the trending venues as blue circle markers\n    for lat, lng, label in zip(trending_venues_df['location.lat'], trending_venues_df['location.lng'], trending_venues_df['name']):\n        folium.features.CircleMarker(\n            [lat, lng],\n            radius=5,\n            poup=label,\n            fill=True,\n            color='blue',\n            fill_color='blue',\n            fill_opacity=0.6\n        ).add_to(venues_map)"
        },
        {
            "cell_type": "code",
            "execution_count": 51,
            "metadata": {
                "button": false,
                "collapsed": false,
                "deletable": true,
                "jupyter": {
                    "outputs_hidden": false
                },
                "new_sheet": false,
                "run_control": {
                    "read_only": false
                }
            },
            "outputs": [
                {
                    "data": {
                        "text/plain": "'Cannot generate visual as no trending venues are available at the moment!'"
                    },
                    "execution_count": 51,
                    "metadata": {},
                    "output_type": "execute_result"
                }
            ],
            "source": "# display map\nvenues_map"
        },
        {
            "cell_type": "markdown",
            "metadata": {
                "button": false,
                "deletable": true,
                "new_sheet": false,
                "run_control": {
                    "read_only": false
                }
            },
            "source": "<a id=\"item6\"></a>"
        },
        {
            "cell_type": "markdown",
            "metadata": {
                "button": false,
                "deletable": true,
                "new_sheet": false,
                "run_control": {
                    "read_only": false
                }
            },
            "source": "   "
        },
        {
            "cell_type": "markdown",
            "metadata": {
                "button": false,
                "deletable": true,
                "new_sheet": false,
                "run_control": {
                    "read_only": false
                }
            },
            "source": "### Thank you for completing this lab!\n\nThis notebook was created by [Alex Aklson](https://www.linkedin.com/in/aklson/). I hope you found this lab interesting and educational. Feel free to contact me if you have any questions!"
        },
        {
            "cell_type": "markdown",
            "metadata": {
                "button": false,
                "deletable": true,
                "new_sheet": false,
                "run_control": {
                    "read_only": false
                }
            },
            "source": "This notebook is part of a course on **Coursera** called *Applied Data Science Capstone*. If you accessed this notebook outside the course, you can take this course online by clicking [here](http://cocl.us/DP0701EN_Coursera_Week2_LAB1)."
        },
        {
            "cell_type": "markdown",
            "metadata": {
                "button": false,
                "deletable": true,
                "new_sheet": false,
                "run_control": {
                    "read_only": false
                }
            },
            "source": "<hr>\nCopyright &copy; 2018 [Cognitive Class](https://cognitiveclass.ai/?utm_source=bducopyrightlink&utm_medium=dswb&utm_campaign=bdu). This notebook and its source code are released under the terms of the [MIT License](https://bigdatauniversity.com/mit-license/)."
        }
    ],
    "metadata": {
        "kernelspec": {
            "display_name": "Python",
            "language": "python",
            "name": "conda-env-python-py"
        },
        "language_info": {
            "codemirror_mode": {
                "name": "ipython",
                "version": 3
            },
            "file_extension": ".py",
            "mimetype": "text/x-python",
            "name": "python",
            "nbconvert_exporter": "python",
            "pygments_lexer": "ipython3",
            "version": "3.6.10"
        },
        "widgets": {
            "state": {},
            "version": "1.1.2"
        }
    },
    "nbformat": 4,
    "nbformat_minor": 4
}